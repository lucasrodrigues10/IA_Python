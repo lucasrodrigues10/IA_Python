{
 "cells": [
  {
   "cell_type": "code",
   "execution_count": 26,
   "metadata": {},
   "outputs": [],
   "source": [
    "#importa as bibliotecas\n",
    "import datetime as dt\n",
    "import bs4 as bs\n",
    "import requests\n",
    "import pandas as pd\n",
    "pd.core.common.is_list_like = pd.api.types.is_list_like\n",
    "from pandas_datareader import data as wb\n",
    "from matplotlib import pyplot as plt"
   ]
  },
  {
   "cell_type": "code",
   "execution_count": 29,
   "metadata": {},
   "outputs": [],
   "source": [
    "# Entrada\n",
    "num_acoes = 2"
   ]
  },
  {
   "cell_type": "code",
   "execution_count": null,
   "metadata": {},
   "outputs": [],
   "source": [
    "#decide intervalo de tempo a ser estudado\n",
    "data_inicial = dt.datetime(2017,8,1)\n",
    "data_final = dt.datetime(2018,1,1)"
   ]
  },
  {
   "cell_type": "code",
   "execution_count": 33,
   "metadata": {},
   "outputs": [
    {
     "data": {
      "text/plain": [
       "['AAPL', 'ABBV']"
      ]
     },
     "execution_count": 33,
     "metadata": {},
     "output_type": "execute_result"
    }
   ],
   "source": [
    "# pega as opcoes das 100 maiores empresas utilizando web scraping\n",
    "resp = requests.get('https://en.wikipedia.org/wiki/S%26P_100')\n",
    "soup = bs.BeautifulSoup(resp.text, 'lxml')\n",
    "tabela_sp_100 = soup.find('table',{'class':'wikitable sortable'})\n",
    "tickers = []\n",
    "for linha in tabela_sp_100.find_all('tr')[1:]:\n",
    "    tickers.append(linha.findAll('td')[0].text.replace(\"\\n\",''))\n",
    "tickers = tickers[:num_acoes] \n",
    "tickers # mostra somente as primeiras"
   ]
  },
  {
   "cell_type": "code",
   "execution_count": 75,
   "metadata": {},
   "outputs": [
    {
     "data": {
      "text/html": [
       "<div>\n",
       "<style scoped>\n",
       "    .dataframe tbody tr th:only-of-type {\n",
       "        vertical-align: middle;\n",
       "    }\n",
       "\n",
       "    .dataframe tbody tr th {\n",
       "        vertical-align: top;\n",
       "    }\n",
       "\n",
       "    .dataframe thead th {\n",
       "        text-align: right;\n",
       "    }\n",
       "</style>\n",
       "<table border=\"1\" class=\"dataframe\">\n",
       "  <thead>\n",
       "    <tr style=\"text-align: right;\">\n",
       "      <th></th>\n",
       "      <th></th>\n",
       "      <th>close_price</th>\n",
       "      <th>high_price</th>\n",
       "      <th>interpolated</th>\n",
       "      <th>low_price</th>\n",
       "      <th>open_price</th>\n",
       "      <th>session</th>\n",
       "      <th>volume</th>\n",
       "    </tr>\n",
       "    <tr>\n",
       "      <th>symbol</th>\n",
       "      <th>begins_at</th>\n",
       "      <th></th>\n",
       "      <th></th>\n",
       "      <th></th>\n",
       "      <th></th>\n",
       "      <th></th>\n",
       "      <th></th>\n",
       "      <th></th>\n",
       "    </tr>\n",
       "  </thead>\n",
       "  <tbody>\n",
       "    <tr>\n",
       "      <th rowspan=\"5\" valign=\"top\">AAPL</th>\n",
       "      <th>2017-10-13</th>\n",
       "      <td>154.651700</td>\n",
       "      <td>154.937300</td>\n",
       "      <td>False</td>\n",
       "      <td>154.080300</td>\n",
       "      <td>154.395500</td>\n",
       "      <td>reg</td>\n",
       "      <td>16394188</td>\n",
       "    </tr>\n",
       "    <tr>\n",
       "      <th>2017-10-16</th>\n",
       "      <td>157.498600</td>\n",
       "      <td>157.616800</td>\n",
       "      <td>False</td>\n",
       "      <td>155.301800</td>\n",
       "      <td>155.548100</td>\n",
       "      <td>reg</td>\n",
       "      <td>24121452</td>\n",
       "    </tr>\n",
       "    <tr>\n",
       "      <th>2017-10-17</th>\n",
       "      <td>158.079800</td>\n",
       "      <td>158.473900</td>\n",
       "      <td>False</td>\n",
       "      <td>156.858300</td>\n",
       "      <td>157.400100</td>\n",
       "      <td>reg</td>\n",
       "      <td>18997275</td>\n",
       "    </tr>\n",
       "    <tr>\n",
       "      <th>2017-10-18</th>\n",
       "      <td>157.380400</td>\n",
       "      <td>158.316200</td>\n",
       "      <td>False</td>\n",
       "      <td>157.222800</td>\n",
       "      <td>158.030600</td>\n",
       "      <td>reg</td>\n",
       "      <td>16374164</td>\n",
       "    </tr>\n",
       "    <tr>\n",
       "      <th>2017-10-19</th>\n",
       "      <td>153.656700</td>\n",
       "      <td>154.740300</td>\n",
       "      <td>False</td>\n",
       "      <td>152.711000</td>\n",
       "      <td>154.415200</td>\n",
       "      <td>reg</td>\n",
       "      <td>42584166</td>\n",
       "    </tr>\n",
       "  </tbody>\n",
       "</table>\n",
       "</div>"
      ],
      "text/plain": [
       "                  close_price  high_price  interpolated   low_price  \\\n",
       "symbol begins_at                                                      \n",
       "AAPL   2017-10-13  154.651700  154.937300         False  154.080300   \n",
       "       2017-10-16  157.498600  157.616800         False  155.301800   \n",
       "       2017-10-17  158.079800  158.473900         False  156.858300   \n",
       "       2017-10-18  157.380400  158.316200         False  157.222800   \n",
       "       2017-10-19  153.656700  154.740300         False  152.711000   \n",
       "\n",
       "                   open_price session    volume  \n",
       "symbol begins_at                                 \n",
       "AAPL   2017-10-13  154.395500     reg  16394188  \n",
       "       2017-10-16  155.548100     reg  24121452  \n",
       "       2017-10-17  157.400100     reg  18997275  \n",
       "       2017-10-18  158.030600     reg  16374164  \n",
       "       2017-10-19  154.415200     reg  42584166  "
      ]
     },
     "execution_count": 75,
     "metadata": {},
     "output_type": "execute_result"
    }
   ],
   "source": [
    "# pega os precos das acoes\n",
    "dados = pd.DataFrame()\n",
    "for ticker in tickers:\n",
    "    dados = dados.append(wb.DataReader(ticker,'robinhood',data_inicial,data_final))\n",
    "dados.head()"
   ]
  },
  {
   "cell_type": "code",
   "execution_count": 76,
   "metadata": {},
   "outputs": [
    {
     "data": {
      "text/html": [
       "<div>\n",
       "<style scoped>\n",
       "    .dataframe tbody tr th:only-of-type {\n",
       "        vertical-align: middle;\n",
       "    }\n",
       "\n",
       "    .dataframe tbody tr th {\n",
       "        vertical-align: top;\n",
       "    }\n",
       "\n",
       "    .dataframe thead th {\n",
       "        text-align: right;\n",
       "    }\n",
       "</style>\n",
       "<table border=\"1\" class=\"dataframe\">\n",
       "  <thead>\n",
       "    <tr style=\"text-align: right;\">\n",
       "      <th></th>\n",
       "      <th>acao</th>\n",
       "      <th>data</th>\n",
       "      <th>preco_fechamento</th>\n",
       "      <th>preco_maximo</th>\n",
       "      <th>interpolated</th>\n",
       "      <th>preco_minimo</th>\n",
       "      <th>preco_abertura</th>\n",
       "      <th>session</th>\n",
       "      <th>quantidade</th>\n",
       "    </tr>\n",
       "  </thead>\n",
       "  <tbody>\n",
       "    <tr>\n",
       "      <th>0</th>\n",
       "      <td>AAPL</td>\n",
       "      <td>2017-10-13</td>\n",
       "      <td>154.6517</td>\n",
       "      <td>154.9373</td>\n",
       "      <td>False</td>\n",
       "      <td>154.0803</td>\n",
       "      <td>154.3955</td>\n",
       "      <td>reg</td>\n",
       "      <td>16394188</td>\n",
       "    </tr>\n",
       "    <tr>\n",
       "      <th>1</th>\n",
       "      <td>AAPL</td>\n",
       "      <td>2017-10-16</td>\n",
       "      <td>157.4986</td>\n",
       "      <td>157.6168</td>\n",
       "      <td>False</td>\n",
       "      <td>155.3018</td>\n",
       "      <td>155.5481</td>\n",
       "      <td>reg</td>\n",
       "      <td>24121452</td>\n",
       "    </tr>\n",
       "    <tr>\n",
       "      <th>2</th>\n",
       "      <td>AAPL</td>\n",
       "      <td>2017-10-17</td>\n",
       "      <td>158.0798</td>\n",
       "      <td>158.4739</td>\n",
       "      <td>False</td>\n",
       "      <td>156.8583</td>\n",
       "      <td>157.4001</td>\n",
       "      <td>reg</td>\n",
       "      <td>18997275</td>\n",
       "    </tr>\n",
       "    <tr>\n",
       "      <th>3</th>\n",
       "      <td>AAPL</td>\n",
       "      <td>2017-10-18</td>\n",
       "      <td>157.3804</td>\n",
       "      <td>158.3162</td>\n",
       "      <td>False</td>\n",
       "      <td>157.2228</td>\n",
       "      <td>158.0306</td>\n",
       "      <td>reg</td>\n",
       "      <td>16374164</td>\n",
       "    </tr>\n",
       "    <tr>\n",
       "      <th>4</th>\n",
       "      <td>AAPL</td>\n",
       "      <td>2017-10-19</td>\n",
       "      <td>153.6567</td>\n",
       "      <td>154.7403</td>\n",
       "      <td>False</td>\n",
       "      <td>152.7110</td>\n",
       "      <td>154.4152</td>\n",
       "      <td>reg</td>\n",
       "      <td>42584166</td>\n",
       "    </tr>\n",
       "  </tbody>\n",
       "</table>\n",
       "</div>"
      ],
      "text/plain": [
       "   acao       data  preco_fechamento  preco_maximo  interpolated  \\\n",
       "0  AAPL 2017-10-13          154.6517      154.9373         False   \n",
       "1  AAPL 2017-10-16          157.4986      157.6168         False   \n",
       "2  AAPL 2017-10-17          158.0798      158.4739         False   \n",
       "3  AAPL 2017-10-18          157.3804      158.3162         False   \n",
       "4  AAPL 2017-10-19          153.6567      154.7403         False   \n",
       "\n",
       "   preco_minimo  preco_abertura session  quantidade  \n",
       "0      154.0803        154.3955     reg    16394188  \n",
       "1      155.3018        155.5481     reg    24121452  \n",
       "2      156.8583        157.4001     reg    18997275  \n",
       "3      157.2228        158.0306     reg    16374164  \n",
       "4      152.7110        154.4152     reg    42584166  "
      ]
     },
     "execution_count": 76,
     "metadata": {},
     "output_type": "execute_result"
    }
   ],
   "source": [
    "#renomeia e informa o tipo das colunas\n",
    "dados = dados.reset_index().rename({'symbol':'acao','begins_at':'data','close_price':'preco_fechamento','high_price':'preco_maximo','low_price':'preco_minimo','open_price':'preco_abertura','volume':'quantidade'},axis='columns')\n",
    "dados = dados.astype({'preco_fechamento':float,'preco_maximo':float,'preco_minimo':float,'preco_abertura':float})\n",
    "dados.head()"
   ]
  },
  {
   "cell_type": "code",
   "execution_count": 86,
   "metadata": {},
   "outputs": [
    {
     "data": {
      "text/plain": [
       "acao\n",
       "AAPL    AxesSubplot(0.125,0.2;0.775x0.68)\n",
       "ABBV    AxesSubplot(0.125,0.2;0.775x0.68)\n",
       "dtype: object"
      ]
     },
     "execution_count": 86,
     "metadata": {},
     "output_type": "execute_result"
    },
    {
     "data": {
      "image/png": "[encoded data removed]",
      "text/plain": [
       "<Figure size 432x288 with 1 Axes>"
      ]
     },
     "metadata": {
      "needs_background": "light"
     },
     "output_type": "display_data"
    }
   ],
   "source": [
    "fig, ax = plt.subplots()\n",
    "dados.groupby('acao').plot(x='data',y='preco_fechamento',ax=ax)"
   ]
  },
  {
   "cell_type": "code",
   "execution_count": null,
   "metadata": {},
   "outputs": [],
   "source": []
  }
 ],
 "metadata": {
  "kernelspec": {
   "display_name": "Python 3",
   "language": "python",
   "name": "python3"
  },
  "language_info": {
   "codemirror_mode": {
    "name": "ipython",
    "version": 3
   },
   "file_extension": ".py",
   "mimetype": "text/x-python",
   "name": "python",
   "nbconvert_exporter": "python",
   "pygments_lexer": "ipython3",
   "version": "3.6.6"
  }
 },
 "nbformat": 4,
 "nbformat_minor": 2
}
