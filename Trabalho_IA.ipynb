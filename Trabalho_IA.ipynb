{
 "cells": [
  {
   "cell_type": "code",
   "execution_count": 446,
   "metadata": {},
   "outputs": [
    {
     "data": {
      "text/plain": [
       "'\\nCreated on Wed Sep  5 09:46:49 2018\\n@author: Lucas de Moura Rodrigues\\n@ra: 14.00556-5\\n'"
      ]
     },
     "execution_count": 446,
     "metadata": {},
     "output_type": "execute_result"
    }
   ],
   "source": [
    "# -*- coding: utf-8 -*-\n",
    "\"\"\"\n",
    "Created on Wed Sep  5 09:46:49 2018\n",
    "@author: Lucas de Moura Rodrigues\n",
    "@ra: 14.00556-5\n",
    "\"\"\""
   ]
  },
  {
   "cell_type": "code",
   "execution_count": 447,
   "metadata": {},
   "outputs": [],
   "source": [
    "import time\n",
    "import numpy as np\n",
    "import pandas as pd\n",
    "from sklearn import linear_model,metrics,svm, preprocessing, ensemble\n",
    "import sklearn\n",
    "import matplotlib.pyplot as plt"
   ]
  },
  {
   "cell_type": "code",
   "execution_count": 448,
   "metadata": {},
   "outputs": [],
   "source": [
    "tempo_inicial = time.time()"
   ]
  },
  {
   "cell_type": "code",
   "execution_count": 449,
   "metadata": {},
   "outputs": [
    {
     "name": "stdout",
     "output_type": "stream",
     "text": [
      "Le e trata os dados:  0.016\n"
     ]
    }
   ],
   "source": [
    "# le o csv\n",
    "print('Le e trata os dados: ', round(time.time() - tempo_inicial, 3))\n",
    "precos_casa = pd.read_csv(\"precos_casa_california.csv\")"
   ]
  },
  {
   "cell_type": "code",
   "execution_count": 450,
   "metadata": {},
   "outputs": [
    {
     "data": {
      "text/html": [
       "<div>\n",
       "<style scoped>\n",
       "    .dataframe tbody tr th:only-of-type {\n",
       "        vertical-align: middle;\n",
       "    }\n",
       "\n",
       "    .dataframe tbody tr th {\n",
       "        vertical-align: top;\n",
       "    }\n",
       "\n",
       "    .dataframe thead th {\n",
       "        text-align: right;\n",
       "    }\n",
       "</style>\n",
       "<table border=\"1\" class=\"dataframe\">\n",
       "  <thead>\n",
       "    <tr style=\"text-align: right;\">\n",
       "      <th></th>\n",
       "      <th>latitude</th>\n",
       "      <th>median_income</th>\n",
       "    </tr>\n",
       "  </thead>\n",
       "  <tbody>\n",
       "    <tr>\n",
       "      <th>count</th>\n",
       "      <td>20445.000000</td>\n",
       "      <td>20444.000000</td>\n",
       "    </tr>\n",
       "    <tr>\n",
       "      <th>mean</th>\n",
       "      <td>35.643596</td>\n",
       "      <td>3.876869</td>\n",
       "    </tr>\n",
       "    <tr>\n",
       "      <th>std</th>\n",
       "      <td>2.129236</td>\n",
       "      <td>1.904054</td>\n",
       "    </tr>\n",
       "    <tr>\n",
       "      <th>min</th>\n",
       "      <td>32.540000</td>\n",
       "      <td>0.499900</td>\n",
       "    </tr>\n",
       "    <tr>\n",
       "      <th>25%</th>\n",
       "      <td>33.940000</td>\n",
       "      <td>2.565750</td>\n",
       "    </tr>\n",
       "    <tr>\n",
       "      <th>50%</th>\n",
       "      <td>34.260000</td>\n",
       "      <td>3.540300</td>\n",
       "    </tr>\n",
       "    <tr>\n",
       "      <th>75%</th>\n",
       "      <td>37.720000</td>\n",
       "      <td>4.756600</td>\n",
       "    </tr>\n",
       "    <tr>\n",
       "      <th>max</th>\n",
       "      <td>41.950000</td>\n",
       "      <td>15.000100</td>\n",
       "    </tr>\n",
       "  </tbody>\n",
       "</table>\n",
       "</div>"
      ],
      "text/plain": [
       "           latitude  median_income\n",
       "count  20445.000000   20444.000000\n",
       "mean      35.643596       3.876869\n",
       "std        2.129236       1.904054\n",
       "min       32.540000       0.499900\n",
       "25%       33.940000       2.565750\n",
       "50%       34.260000       3.540300\n",
       "75%       37.720000       4.756600\n",
       "max       41.950000      15.000100"
      ]
     },
     "execution_count": 450,
     "metadata": {},
     "output_type": "execute_result"
    }
   ],
   "source": [
    "# ve as informacoes do Dataframe\n",
    "precos_casa.describe()"
   ]
  },
  {
   "cell_type": "code",
   "execution_count": 451,
   "metadata": {},
   "outputs": [
    {
     "data": {
      "text/html": [
       "<div>\n",
       "<style scoped>\n",
       "    .dataframe tbody tr th:only-of-type {\n",
       "        vertical-align: middle;\n",
       "    }\n",
       "\n",
       "    .dataframe tbody tr th {\n",
       "        vertical-align: top;\n",
       "    }\n",
       "\n",
       "    .dataframe thead th {\n",
       "        text-align: right;\n",
       "    }\n",
       "</style>\n",
       "<table border=\"1\" class=\"dataframe\">\n",
       "  <thead>\n",
       "    <tr style=\"text-align: right;\">\n",
       "      <th></th>\n",
       "      <th>latitude</th>\n",
       "      <th>housing_median_age</th>\n",
       "      <th>total_rooms</th>\n",
       "      <th>total_bedrooms</th>\n",
       "      <th>population</th>\n",
       "      <th>households</th>\n",
       "      <th>median_income</th>\n",
       "      <th>median_house_value</th>\n",
       "    </tr>\n",
       "  </thead>\n",
       "  <tbody>\n",
       "    <tr>\n",
       "      <th>count</th>\n",
       "      <td>13930.000000</td>\n",
       "      <td>13930.000000</td>\n",
       "      <td>13930.000000</td>\n",
       "      <td>13930.000000</td>\n",
       "      <td>13930.000000</td>\n",
       "      <td>13930.000000</td>\n",
       "      <td>13930.000000</td>\n",
       "      <td>13930.000000</td>\n",
       "    </tr>\n",
       "    <tr>\n",
       "      <th>mean</th>\n",
       "      <td>35.694599</td>\n",
       "      <td>28.550323</td>\n",
       "      <td>1955.799282</td>\n",
       "      <td>400.786935</td>\n",
       "      <td>1097.638335</td>\n",
       "      <td>374.421608</td>\n",
       "      <td>3.515953</td>\n",
       "      <td>173585.886360</td>\n",
       "    </tr>\n",
       "    <tr>\n",
       "      <th>std</th>\n",
       "      <td>2.181956</td>\n",
       "      <td>11.149611</td>\n",
       "      <td>918.063132</td>\n",
       "      <td>174.487808</td>\n",
       "      <td>492.718730</td>\n",
       "      <td>160.755241</td>\n",
       "      <td>1.377513</td>\n",
       "      <td>80856.189371</td>\n",
       "    </tr>\n",
       "    <tr>\n",
       "      <th>min</th>\n",
       "      <td>32.540000</td>\n",
       "      <td>1.000000</td>\n",
       "      <td>2.000000</td>\n",
       "      <td>2.000000</td>\n",
       "      <td>3.000000</td>\n",
       "      <td>2.000000</td>\n",
       "      <td>0.499900</td>\n",
       "      <td>0.000000</td>\n",
       "    </tr>\n",
       "    <tr>\n",
       "      <th>25%</th>\n",
       "      <td>33.930000</td>\n",
       "      <td>19.000000</td>\n",
       "      <td>1307.250000</td>\n",
       "      <td>275.000000</td>\n",
       "      <td>744.000000</td>\n",
       "      <td>261.000000</td>\n",
       "      <td>2.453700</td>\n",
       "      <td>108000.000000</td>\n",
       "    </tr>\n",
       "    <tr>\n",
       "      <th>50%</th>\n",
       "      <td>34.300000</td>\n",
       "      <td>30.000000</td>\n",
       "      <td>1851.000000</td>\n",
       "      <td>387.000000</td>\n",
       "      <td>1057.000000</td>\n",
       "      <td>364.000000</td>\n",
       "      <td>3.360700</td>\n",
       "      <td>162500.000000</td>\n",
       "    </tr>\n",
       "    <tr>\n",
       "      <th>75%</th>\n",
       "      <td>37.720000</td>\n",
       "      <td>36.000000</td>\n",
       "      <td>2529.000000</td>\n",
       "      <td>520.000000</td>\n",
       "      <td>1431.000000</td>\n",
       "      <td>488.000000</td>\n",
       "      <td>4.440525</td>\n",
       "      <td>226500.000000</td>\n",
       "    </tr>\n",
       "    <tr>\n",
       "      <th>max</th>\n",
       "      <td>41.950000</td>\n",
       "      <td>51.000000</td>\n",
       "      <td>5989.000000</td>\n",
       "      <td>994.000000</td>\n",
       "      <td>2400.000000</td>\n",
       "      <td>735.000000</td>\n",
       "      <td>7.358800</td>\n",
       "      <td>387500.000000</td>\n",
       "    </tr>\n",
       "  </tbody>\n",
       "</table>\n",
       "</div>"
      ],
      "text/plain": [
       "           latitude  housing_median_age   total_rooms  total_bedrooms  \\\n",
       "count  13930.000000        13930.000000  13930.000000    13930.000000   \n",
       "mean      35.694599           28.550323   1955.799282      400.786935   \n",
       "std        2.181956           11.149611    918.063132      174.487808   \n",
       "min       32.540000            1.000000      2.000000        2.000000   \n",
       "25%       33.930000           19.000000   1307.250000      275.000000   \n",
       "50%       34.300000           30.000000   1851.000000      387.000000   \n",
       "75%       37.720000           36.000000   2529.000000      520.000000   \n",
       "max       41.950000           51.000000   5989.000000      994.000000   \n",
       "\n",
       "         population    households  median_income  median_house_value  \n",
       "count  13930.000000  13930.000000   13930.000000        13930.000000  \n",
       "mean    1097.638335    374.421608       3.515953       173585.886360  \n",
       "std      492.718730    160.755241       1.377513        80856.189371  \n",
       "min        3.000000      2.000000       0.499900            0.000000  \n",
       "25%      744.000000    261.000000       2.453700       108000.000000  \n",
       "50%     1057.000000    364.000000       3.360700       162500.000000  \n",
       "75%     1431.000000    488.000000       4.440525       226500.000000  \n",
       "max     2400.000000    735.000000       7.358800       387500.000000  "
      ]
     },
     "execution_count": 451,
     "metadata": {},
     "output_type": "execute_result"
    }
   ],
   "source": [
    "# trata o dataframe, tirando outliers\n",
    "precos_casa = precos_casa.replace(' ', np.nan)\n",
    "precos_casa = precos_casa.dropna()\n",
    "colunas = ['housing_median_age', 'total_rooms', 'total_bedrooms', 'population', 'households', 'median_income', 'median_house_value']\n",
    "for i in colunas:\n",
    "    precos_casa[i] = pd.to_numeric(precos_casa[i])\n",
    "    precos_casa = precos_casa.loc[precos_casa[i] < precos_casa[i].quantile(0.95)]\n",
    "precos_casa = precos_casa.reset_index(drop=True)\n",
    "precos_casa.describe()"
   ]
  },
  {
   "cell_type": "code",
   "execution_count": 452,
   "metadata": {},
   "outputs": [],
   "source": [
    "# separa o dataframe\n",
    "dados = precos_casa.loc[:, precos_casa.columns != 'median_house_value']\n",
    "target = precos_casa.loc[:, precos_casa.columns == 'median_house_value']"
   ]
  },
  {
   "cell_type": "code",
   "execution_count": 453,
   "metadata": {},
   "outputs": [],
   "source": [
    "# numeriza o ocean\n",
    "dic_ocean = {0: 'NEAR BAY', 1: '<1H OCEAN', 2: 'INLAND', 3: 'NEAR OCEAN', 4: 'ISLAND'}\n",
    "for chave, valor in dic_ocean.items():\n",
    "    dados = dados.replace(valor, chave)"
   ]
  },
  {
   "cell_type": "code",
   "execution_count": 454,
   "metadata": {},
   "outputs": [
    {
     "data": {
      "text/html": [
       "<div>\n",
       "<style scoped>\n",
       "    .dataframe tbody tr th:only-of-type {\n",
       "        vertical-align: middle;\n",
       "    }\n",
       "\n",
       "    .dataframe tbody tr th {\n",
       "        vertical-align: top;\n",
       "    }\n",
       "\n",
       "    .dataframe thead th {\n",
       "        text-align: right;\n",
       "    }\n",
       "</style>\n",
       "<table border=\"1\" class=\"dataframe\">\n",
       "  <thead>\n",
       "    <tr style=\"text-align: right;\">\n",
       "      <th></th>\n",
       "      <th>longitude</th>\n",
       "      <th>latitude</th>\n",
       "      <th>housing_median_age</th>\n",
       "      <th>total_rooms</th>\n",
       "      <th>total_bedrooms</th>\n",
       "      <th>population</th>\n",
       "      <th>households</th>\n",
       "      <th>median_income</th>\n",
       "      <th>ocean_proximity</th>\n",
       "    </tr>\n",
       "  </thead>\n",
       "  <tbody>\n",
       "    <tr>\n",
       "      <th>0</th>\n",
       "      <td>-122.26</td>\n",
       "      <td>37.84</td>\n",
       "      <td>42.0</td>\n",
       "      <td>2555.0</td>\n",
       "      <td>665.0</td>\n",
       "      <td>1206.0</td>\n",
       "      <td>595.0</td>\n",
       "      <td>2.0804</td>\n",
       "      <td>0</td>\n",
       "    </tr>\n",
       "    <tr>\n",
       "      <th>1</th>\n",
       "      <td>-122.26</td>\n",
       "      <td>37.85</td>\n",
       "      <td>50.0</td>\n",
       "      <td>1120.0</td>\n",
       "      <td>283.0</td>\n",
       "      <td>697.0</td>\n",
       "      <td>264.0</td>\n",
       "      <td>2.1250</td>\n",
       "      <td>0</td>\n",
       "    </tr>\n",
       "    <tr>\n",
       "      <th>2</th>\n",
       "      <td>-122.26</td>\n",
       "      <td>37.84</td>\n",
       "      <td>50.0</td>\n",
       "      <td>2239.0</td>\n",
       "      <td>455.0</td>\n",
       "      <td>990.0</td>\n",
       "      <td>419.0</td>\n",
       "      <td>1.9911</td>\n",
       "      <td>0</td>\n",
       "    </tr>\n",
       "  </tbody>\n",
       "</table>\n",
       "</div>"
      ],
      "text/plain": [
       "  longitude  latitude  housing_median_age  total_rooms  total_bedrooms  \\\n",
       "0   -122.26     37.84                42.0       2555.0           665.0   \n",
       "1   -122.26     37.85                50.0       1120.0           283.0   \n",
       "2   -122.26     37.84                50.0       2239.0           455.0   \n",
       "\n",
       "   population  households  median_income  ocean_proximity  \n",
       "0      1206.0       595.0         2.0804                0  \n",
       "1       697.0       264.0         2.1250                0  \n",
       "2       990.0       419.0         1.9911                0  "
      ]
     },
     "execution_count": 454,
     "metadata": {},
     "output_type": "execute_result"
    }
   ],
   "source": [
    "dados.head(3)"
   ]
  },
  {
   "cell_type": "code",
   "execution_count": 455,
   "metadata": {},
   "outputs": [],
   "source": [
    "# normaliza dados\n",
    "colunas = dados.columns\n",
    "min_max_scaler = preprocessing.MinMaxScaler()\n",
    "x_scaled = min_max_scaler.fit_transform(dados.values.astype(float))\n",
    "dados = pd.DataFrame(x_scaled)\n",
    "dados.columns = colunas\n",
    "\n",
    "#normaliza target\n",
    "colunas = target.columns\n",
    "min_max_scaler = preprocessing.MinMaxScaler()\n",
    "x_scaled = min_max_scaler.fit_transform(dados.values.astype(float))\n",
    "dados = pd.DataFrame(x_scaled)\n",
    "dados.columns = colunas"
   ]
  },
  {
   "cell_type": "code",
   "execution_count": 456,
   "metadata": {},
   "outputs": [
    {
     "data": {
      "text/html": [
       "<div>\n",
       "<style scoped>\n",
       "    .dataframe tbody tr th:only-of-type {\n",
       "        vertical-align: middle;\n",
       "    }\n",
       "\n",
       "    .dataframe tbody tr th {\n",
       "        vertical-align: top;\n",
       "    }\n",
       "\n",
       "    .dataframe thead th {\n",
       "        text-align: right;\n",
       "    }\n",
       "</style>\n",
       "<table border=\"1\" class=\"dataframe\">\n",
       "  <thead>\n",
       "    <tr style=\"text-align: right;\">\n",
       "      <th></th>\n",
       "      <th>longitude</th>\n",
       "      <th>latitude</th>\n",
       "      <th>housing_median_age</th>\n",
       "      <th>total_rooms</th>\n",
       "      <th>total_bedrooms</th>\n",
       "      <th>population</th>\n",
       "      <th>households</th>\n",
       "      <th>median_income</th>\n",
       "      <th>ocean_proximity</th>\n",
       "    </tr>\n",
       "  </thead>\n",
       "  <tbody>\n",
       "    <tr>\n",
       "      <th>0</th>\n",
       "      <td>0.207951</td>\n",
       "      <td>0.563231</td>\n",
       "      <td>0.82</td>\n",
       "      <td>0.426424</td>\n",
       "      <td>0.668347</td>\n",
       "      <td>0.501877</td>\n",
       "      <td>0.809004</td>\n",
       "      <td>0.230431</td>\n",
       "      <td>0.0</td>\n",
       "    </tr>\n",
       "    <tr>\n",
       "      <th>1</th>\n",
       "      <td>0.207951</td>\n",
       "      <td>0.564293</td>\n",
       "      <td>0.98</td>\n",
       "      <td>0.186738</td>\n",
       "      <td>0.283266</td>\n",
       "      <td>0.289529</td>\n",
       "      <td>0.357435</td>\n",
       "      <td>0.236933</td>\n",
       "      <td>0.0</td>\n",
       "    </tr>\n",
       "    <tr>\n",
       "      <th>2</th>\n",
       "      <td>0.207951</td>\n",
       "      <td>0.563231</td>\n",
       "      <td>0.98</td>\n",
       "      <td>0.373643</td>\n",
       "      <td>0.456653</td>\n",
       "      <td>0.411765</td>\n",
       "      <td>0.568895</td>\n",
       "      <td>0.217411</td>\n",
       "      <td>0.0</td>\n",
       "    </tr>\n",
       "  </tbody>\n",
       "</table>\n",
       "</div>"
      ],
      "text/plain": [
       "   longitude  latitude  housing_median_age  total_rooms  total_bedrooms  \\\n",
       "0   0.207951  0.563231                0.82     0.426424        0.668347   \n",
       "1   0.207951  0.564293                0.98     0.186738        0.283266   \n",
       "2   0.207951  0.563231                0.98     0.373643        0.456653   \n",
       "\n",
       "   population  households  median_income  ocean_proximity  \n",
       "0    0.501877    0.809004       0.230431              0.0  \n",
       "1    0.289529    0.357435       0.236933              0.0  \n",
       "2    0.411765    0.568895       0.217411              0.0  "
      ]
     },
     "execution_count": 456,
     "metadata": {},
     "output_type": "execute_result"
    }
   ],
   "source": [
    "dados.head(3)"
   ]
  },
  {
   "cell_type": "code",
   "execution_count": 457,
   "metadata": {},
   "outputs": [
    {
     "data": {
      "text/html": [
       "<div>\n",
       "<style scoped>\n",
       "    .dataframe tbody tr th:only-of-type {\n",
       "        vertical-align: middle;\n",
       "    }\n",
       "\n",
       "    .dataframe tbody tr th {\n",
       "        vertical-align: top;\n",
       "    }\n",
       "\n",
       "    .dataframe thead th {\n",
       "        text-align: right;\n",
       "    }\n",
       "</style>\n",
       "<table border=\"1\" class=\"dataframe\">\n",
       "  <thead>\n",
       "    <tr style=\"text-align: right;\">\n",
       "      <th></th>\n",
       "      <th>median_house_value</th>\n",
       "    </tr>\n",
       "  </thead>\n",
       "  <tbody>\n",
       "    <tr>\n",
       "      <th>0</th>\n",
       "      <td>226700.0</td>\n",
       "    </tr>\n",
       "    <tr>\n",
       "      <th>1</th>\n",
       "      <td>140000.0</td>\n",
       "    </tr>\n",
       "    <tr>\n",
       "      <th>2</th>\n",
       "      <td>158700.0</td>\n",
       "    </tr>\n",
       "  </tbody>\n",
       "</table>\n",
       "</div>"
      ],
      "text/plain": [
       "   median_house_value\n",
       "0            226700.0\n",
       "1            140000.0\n",
       "2            158700.0"
      ]
     },
     "execution_count": 457,
     "metadata": {},
     "output_type": "execute_result"
    }
   ],
   "source": [
    "target.head(3)"
   ]
  },
  {
   "cell_type": "code",
   "execution_count": 458,
   "metadata": {},
   "outputs": [],
   "source": [
    "# separa o dataframe: dados_treino = 0 - 60%  dados_validacao = 60 - 100%\n",
    "tamanho_precos_casa = len(precos_casa)\n",
    "index_60 = int(tamanho_precos_casa * 0.6)  # primeiros 60% do dataframe\n",
    "dados_treino = dados[:index_60]\n",
    "dados_validacao = dados[index_60:]\n",
    "target_treino = target[:index_60]\n",
    "target_validacao = target[index_60:]\n",
    "dados_treino = dados_treino.sort_values(by=['median_income','households']).reset_index(drop=True)\n",
    "dados_validacao = dados_validacao.sort_values(by=['median_income','households']).reset_index(drop=True)\n",
    "target_validacao = target_validacao.sort_values(by='median_house_value').reset_index(drop=True)\n",
    "target_treino = target_treino.sort_values(by='median_house_value').reset_index(drop=True)"
   ]
  },
  {
   "cell_type": "code",
   "execution_count": 459,
   "metadata": {},
   "outputs": [
    {
     "data": {
      "text/html": [
       "<div>\n",
       "<style scoped>\n",
       "    .dataframe tbody tr th:only-of-type {\n",
       "        vertical-align: middle;\n",
       "    }\n",
       "\n",
       "    .dataframe tbody tr th {\n",
       "        vertical-align: top;\n",
       "    }\n",
       "\n",
       "    .dataframe thead th {\n",
       "        text-align: right;\n",
       "    }\n",
       "</style>\n",
       "<table border=\"1\" class=\"dataframe\">\n",
       "  <thead>\n",
       "    <tr style=\"text-align: right;\">\n",
       "      <th></th>\n",
       "      <th>longitude</th>\n",
       "      <th>latitude</th>\n",
       "      <th>housing_median_age</th>\n",
       "      <th>total_rooms</th>\n",
       "      <th>total_bedrooms</th>\n",
       "      <th>population</th>\n",
       "      <th>households</th>\n",
       "      <th>median_income</th>\n",
       "      <th>ocean_proximity</th>\n",
       "    </tr>\n",
       "  </thead>\n",
       "  <tbody>\n",
       "    <tr>\n",
       "      <th>0</th>\n",
       "      <td>0.638124</td>\n",
       "      <td>0.144527</td>\n",
       "      <td>0.7</td>\n",
       "      <td>0.002171</td>\n",
       "      <td>0.003024</td>\n",
       "      <td>0.005006</td>\n",
       "      <td>0.005457</td>\n",
       "      <td>0.0</td>\n",
       "      <td>0.25</td>\n",
       "    </tr>\n",
       "    <tr>\n",
       "      <th>1</th>\n",
       "      <td>0.204893</td>\n",
       "      <td>0.560043</td>\n",
       "      <td>0.9</td>\n",
       "      <td>0.001670</td>\n",
       "      <td>0.002016</td>\n",
       "      <td>0.006258</td>\n",
       "      <td>0.006821</td>\n",
       "      <td>0.0</td>\n",
       "      <td>0.00</td>\n",
       "    </tr>\n",
       "    <tr>\n",
       "      <th>2</th>\n",
       "      <td>0.143731</td>\n",
       "      <td>0.731137</td>\n",
       "      <td>0.3</td>\n",
       "      <td>0.068315</td>\n",
       "      <td>0.112903</td>\n",
       "      <td>0.009595</td>\n",
       "      <td>0.023192</td>\n",
       "      <td>0.0</td>\n",
       "      <td>0.50</td>\n",
       "    </tr>\n",
       "  </tbody>\n",
       "</table>\n",
       "</div>"
      ],
      "text/plain": [
       "   longitude  latitude  housing_median_age  total_rooms  total_bedrooms  \\\n",
       "0   0.638124  0.144527                 0.7     0.002171        0.003024   \n",
       "1   0.204893  0.560043                 0.9     0.001670        0.002016   \n",
       "2   0.143731  0.731137                 0.3     0.068315        0.112903   \n",
       "\n",
       "   population  households  median_income  ocean_proximity  \n",
       "0    0.005006    0.005457            0.0             0.25  \n",
       "1    0.006258    0.006821            0.0             0.00  \n",
       "2    0.009595    0.023192            0.0             0.50  "
      ]
     },
     "execution_count": 459,
     "metadata": {},
     "output_type": "execute_result"
    }
   ],
   "source": [
    "dados_treino.head(3)"
   ]
  },
  {
   "cell_type": "code",
   "execution_count": 460,
   "metadata": {},
   "outputs": [
    {
     "data": {
      "text/html": [
       "<div>\n",
       "<style scoped>\n",
       "    .dataframe tbody tr th:only-of-type {\n",
       "        vertical-align: middle;\n",
       "    }\n",
       "\n",
       "    .dataframe tbody tr th {\n",
       "        vertical-align: top;\n",
       "    }\n",
       "\n",
       "    .dataframe thead th {\n",
       "        text-align: right;\n",
       "    }\n",
       "</style>\n",
       "<table border=\"1\" class=\"dataframe\">\n",
       "  <thead>\n",
       "    <tr style=\"text-align: right;\">\n",
       "      <th></th>\n",
       "      <th>longitude</th>\n",
       "      <th>latitude</th>\n",
       "      <th>housing_median_age</th>\n",
       "      <th>total_rooms</th>\n",
       "      <th>total_bedrooms</th>\n",
       "      <th>population</th>\n",
       "      <th>households</th>\n",
       "      <th>median_income</th>\n",
       "      <th>ocean_proximity</th>\n",
       "    </tr>\n",
       "  </thead>\n",
       "  <tbody>\n",
       "    <tr>\n",
       "      <th>0</th>\n",
       "      <td>0.418960</td>\n",
       "      <td>0.587673</td>\n",
       "      <td>0.84</td>\n",
       "      <td>0.016703</td>\n",
       "      <td>0.017137</td>\n",
       "      <td>0.017105</td>\n",
       "      <td>0.015007</td>\n",
       "      <td>0.0</td>\n",
       "      <td>0.5</td>\n",
       "    </tr>\n",
       "    <tr>\n",
       "      <th>1</th>\n",
       "      <td>0.754332</td>\n",
       "      <td>0.228480</td>\n",
       "      <td>0.18</td>\n",
       "      <td>0.055955</td>\n",
       "      <td>0.100806</td>\n",
       "      <td>0.043805</td>\n",
       "      <td>0.065484</td>\n",
       "      <td>0.0</td>\n",
       "      <td>0.5</td>\n",
       "    </tr>\n",
       "    <tr>\n",
       "      <th>2</th>\n",
       "      <td>0.099898</td>\n",
       "      <td>0.838470</td>\n",
       "      <td>0.28</td>\n",
       "      <td>0.110072</td>\n",
       "      <td>0.145161</td>\n",
       "      <td>0.053400</td>\n",
       "      <td>0.075034</td>\n",
       "      <td>0.0</td>\n",
       "      <td>0.5</td>\n",
       "    </tr>\n",
       "  </tbody>\n",
       "</table>\n",
       "</div>"
      ],
      "text/plain": [
       "   longitude  latitude  housing_median_age  total_rooms  total_bedrooms  \\\n",
       "0   0.418960  0.587673                0.84     0.016703        0.017137   \n",
       "1   0.754332  0.228480                0.18     0.055955        0.100806   \n",
       "2   0.099898  0.838470                0.28     0.110072        0.145161   \n",
       "\n",
       "   population  households  median_income  ocean_proximity  \n",
       "0    0.017105    0.015007            0.0              0.5  \n",
       "1    0.043805    0.065484            0.0              0.5  \n",
       "2    0.053400    0.075034            0.0              0.5  "
      ]
     },
     "execution_count": 460,
     "metadata": {},
     "output_type": "execute_result"
    }
   ],
   "source": [
    "dados_validacao.head(3)"
   ]
  },
  {
   "cell_type": "code",
   "execution_count": 461,
   "metadata": {},
   "outputs": [
    {
     "data": {
      "text/html": [
       "<div>\n",
       "<style scoped>\n",
       "    .dataframe tbody tr th:only-of-type {\n",
       "        vertical-align: middle;\n",
       "    }\n",
       "\n",
       "    .dataframe tbody tr th {\n",
       "        vertical-align: top;\n",
       "    }\n",
       "\n",
       "    .dataframe thead th {\n",
       "        text-align: right;\n",
       "    }\n",
       "</style>\n",
       "<table border=\"1\" class=\"dataframe\">\n",
       "  <thead>\n",
       "    <tr style=\"text-align: right;\">\n",
       "      <th></th>\n",
       "      <th>median_house_value</th>\n",
       "    </tr>\n",
       "  </thead>\n",
       "  <tbody>\n",
       "    <tr>\n",
       "      <th>0</th>\n",
       "      <td>0.0</td>\n",
       "    </tr>\n",
       "    <tr>\n",
       "      <th>1</th>\n",
       "      <td>0.0</td>\n",
       "    </tr>\n",
       "    <tr>\n",
       "      <th>2</th>\n",
       "      <td>14999.0</td>\n",
       "    </tr>\n",
       "    <tr>\n",
       "      <th>3</th>\n",
       "      <td>14999.0</td>\n",
       "    </tr>\n",
       "    <tr>\n",
       "      <th>4</th>\n",
       "      <td>17500.0</td>\n",
       "    </tr>\n",
       "  </tbody>\n",
       "</table>\n",
       "</div>"
      ],
      "text/plain": [
       "   median_house_value\n",
       "0                 0.0\n",
       "1                 0.0\n",
       "2             14999.0\n",
       "3             14999.0\n",
       "4             17500.0"
      ]
     },
     "execution_count": 461,
     "metadata": {},
     "output_type": "execute_result"
    }
   ],
   "source": [
    "target_treino.head()"
   ]
  },
  {
   "cell_type": "code",
   "execution_count": 462,
   "metadata": {},
   "outputs": [
    {
     "data": {
      "text/html": [
       "<div>\n",
       "<style scoped>\n",
       "    .dataframe tbody tr th:only-of-type {\n",
       "        vertical-align: middle;\n",
       "    }\n",
       "\n",
       "    .dataframe tbody tr th {\n",
       "        vertical-align: top;\n",
       "    }\n",
       "\n",
       "    .dataframe thead th {\n",
       "        text-align: right;\n",
       "    }\n",
       "</style>\n",
       "<table border=\"1\" class=\"dataframe\">\n",
       "  <thead>\n",
       "    <tr style=\"text-align: right;\">\n",
       "      <th></th>\n",
       "      <th>median_house_value</th>\n",
       "    </tr>\n",
       "  </thead>\n",
       "  <tbody>\n",
       "    <tr>\n",
       "      <th>0</th>\n",
       "      <td>14999.0</td>\n",
       "    </tr>\n",
       "    <tr>\n",
       "      <th>1</th>\n",
       "      <td>27500.0</td>\n",
       "    </tr>\n",
       "    <tr>\n",
       "      <th>2</th>\n",
       "      <td>32500.0</td>\n",
       "    </tr>\n",
       "    <tr>\n",
       "      <th>3</th>\n",
       "      <td>32500.0</td>\n",
       "    </tr>\n",
       "    <tr>\n",
       "      <th>4</th>\n",
       "      <td>34200.0</td>\n",
       "    </tr>\n",
       "  </tbody>\n",
       "</table>\n",
       "</div>"
      ],
      "text/plain": [
       "   median_house_value\n",
       "0             14999.0\n",
       "1             27500.0\n",
       "2             32500.0\n",
       "3             32500.0\n",
       "4             34200.0"
      ]
     },
     "execution_count": 462,
     "metadata": {},
     "output_type": "execute_result"
    }
   ],
   "source": [
    "target_validacao.head()"
   ]
  },
  {
   "cell_type": "code",
   "execution_count": 463,
   "metadata": {},
   "outputs": [
    {
     "name": "stdout",
     "output_type": "stream",
     "text": [
      "Predicao dos Dados:  1.062\n"
     ]
    }
   ],
   "source": [
    "# machine learning\n",
    "print('Predicao dos Dados: ', round(time.time() - tempo_inicial, 3))\n",
    "#clf = linear_model.LassoLars(alpha=.1)  # 25480756266.08841\n",
    "#clf = linear_model.Ridge (alpha = .5) # 25490381018.173256\n",
    "#clf = svm.SVR() # 6922054605.659882\n",
    "clf = ensemble.BaggingRegressor()\n",
    "#clf = linear_model.SGDRegressor() # infinito\n",
    "clf.fit(dados_treino.values, target_treino.values.ravel())\n",
    "target_predicao = clf.predict(dados_validacao)"
   ]
  },
  {
   "cell_type": "code",
   "execution_count": 464,
   "metadata": {},
   "outputs": [
    {
     "data": {
      "text/html": [
       "<div>\n",
       "<style scoped>\n",
       "    .dataframe tbody tr th:only-of-type {\n",
       "        vertical-align: middle;\n",
       "    }\n",
       "\n",
       "    .dataframe tbody tr th {\n",
       "        vertical-align: top;\n",
       "    }\n",
       "\n",
       "    .dataframe thead th {\n",
       "        text-align: right;\n",
       "    }\n",
       "</style>\n",
       "<table border=\"1\" class=\"dataframe\">\n",
       "  <thead>\n",
       "    <tr style=\"text-align: right;\">\n",
       "      <th></th>\n",
       "      <th>median_house_value</th>\n",
       "    </tr>\n",
       "  </thead>\n",
       "  <tbody>\n",
       "    <tr>\n",
       "      <th>0</th>\n",
       "      <td>14999.0</td>\n",
       "    </tr>\n",
       "    <tr>\n",
       "      <th>1</th>\n",
       "      <td>27500.0</td>\n",
       "    </tr>\n",
       "    <tr>\n",
       "      <th>2</th>\n",
       "      <td>32500.0</td>\n",
       "    </tr>\n",
       "    <tr>\n",
       "      <th>3</th>\n",
       "      <td>32500.0</td>\n",
       "    </tr>\n",
       "    <tr>\n",
       "      <th>4</th>\n",
       "      <td>34200.0</td>\n",
       "    </tr>\n",
       "  </tbody>\n",
       "</table>\n",
       "</div>"
      ],
      "text/plain": [
       "   median_house_value\n",
       "0             14999.0\n",
       "1             27500.0\n",
       "2             32500.0\n",
       "3             32500.0\n",
       "4             34200.0"
      ]
     },
     "execution_count": 464,
     "metadata": {},
     "output_type": "execute_result"
    }
   ],
   "source": [
    "target_validacao = target_validacao.sort_values(by=['median_house_value']).reset_index(drop=True)\n",
    "target_validacao.head()"
   ]
  },
  {
   "cell_type": "code",
   "execution_count": 465,
   "metadata": {},
   "outputs": [
    {
     "data": {
      "text/html": [
       "<div>\n",
       "<style scoped>\n",
       "    .dataframe tbody tr th:only-of-type {\n",
       "        vertical-align: middle;\n",
       "    }\n",
       "\n",
       "    .dataframe tbody tr th {\n",
       "        vertical-align: top;\n",
       "    }\n",
       "\n",
       "    .dataframe thead th {\n",
       "        text-align: right;\n",
       "    }\n",
       "</style>\n",
       "<table border=\"1\" class=\"dataframe\">\n",
       "  <thead>\n",
       "    <tr style=\"text-align: right;\">\n",
       "      <th></th>\n",
       "      <th>median_house_value</th>\n",
       "    </tr>\n",
       "  </thead>\n",
       "  <tbody>\n",
       "    <tr>\n",
       "      <th>0</th>\n",
       "      <td>387320.0</td>\n",
       "    </tr>\n",
       "    <tr>\n",
       "      <th>1</th>\n",
       "      <td>387260.0</td>\n",
       "    </tr>\n",
       "    <tr>\n",
       "      <th>2</th>\n",
       "      <td>386730.0</td>\n",
       "    </tr>\n",
       "    <tr>\n",
       "      <th>3</th>\n",
       "      <td>386710.0</td>\n",
       "    </tr>\n",
       "    <tr>\n",
       "      <th>4</th>\n",
       "      <td>386370.0</td>\n",
       "    </tr>\n",
       "  </tbody>\n",
       "</table>\n",
       "</div>"
      ],
      "text/plain": [
       "   median_house_value\n",
       "0            387320.0\n",
       "1            387260.0\n",
       "2            386730.0\n",
       "3            386710.0\n",
       "4            386370.0"
      ]
     },
     "execution_count": 465,
     "metadata": {},
     "output_type": "execute_result"
    }
   ],
   "source": [
    "target_predicao = [float(i) for i in target_predicao]\n",
    "target_predicao = pd.DataFrame(data=target_predicao,columns=['median_house_value']).sort_values(by=['median_house_value'],ascending=False).reset_index(drop=True)\n",
    "target_predicao.head()"
   ]
  },
  {
   "cell_type": "code",
   "execution_count": 466,
   "metadata": {},
   "outputs": [
    {
     "data": {
      "text/plain": [
       "25436166178.927902"
      ]
     },
     "execution_count": 466,
     "metadata": {},
     "output_type": "execute_result"
    }
   ],
   "source": [
    "sklearn.metrics.mean_squared_error(target_validacao, target_predicao)"
   ]
  },
  {
   "cell_type": "code",
   "execution_count": 467,
   "metadata": {},
   "outputs": [
    {
     "data": {
      "text/plain": [
       "0.9852447010584179"
      ]
     },
     "execution_count": 467,
     "metadata": {},
     "output_type": "execute_result"
    }
   ],
   "source": [
    "clf.score(dados_validacao, target_validacao)"
   ]
  },
  {
   "cell_type": "code",
   "execution_count": 468,
   "metadata": {},
   "outputs": [
    {
     "data": {
      "text/plain": [
       "0.9999987579153536"
      ]
     },
     "execution_count": 468,
     "metadata": {},
     "output_type": "execute_result"
    }
   ],
   "source": [
    "clf.score(dados_treino, target_treino)"
   ]
  },
  {
   "cell_type": "code",
   "execution_count": 469,
   "metadata": {},
   "outputs": [
    {
     "name": "stdout",
     "output_type": "stream",
     "text": [
      "Comparando os Dados:  1.635\n"
     ]
    },
    {
     "data": {
      "text/html": [
       "<div>\n",
       "<style scoped>\n",
       "    .dataframe tbody tr th:only-of-type {\n",
       "        vertical-align: middle;\n",
       "    }\n",
       "\n",
       "    .dataframe tbody tr th {\n",
       "        vertical-align: top;\n",
       "    }\n",
       "\n",
       "    .dataframe thead th {\n",
       "        text-align: right;\n",
       "    }\n",
       "</style>\n",
       "<table border=\"1\" class=\"dataframe\">\n",
       "  <thead>\n",
       "    <tr style=\"text-align: right;\">\n",
       "      <th></th>\n",
       "      <th>Valor Correto</th>\n",
       "      <th>Valor_Calculado</th>\n",
       "      <th>Diferenca_Absoluta</th>\n",
       "      <th>Diferenca_Porcentagem</th>\n",
       "    </tr>\n",
       "  </thead>\n",
       "  <tbody>\n",
       "    <tr>\n",
       "      <th>0</th>\n",
       "      <td>14999.0</td>\n",
       "      <td>387320.0</td>\n",
       "      <td>-372321.0</td>\n",
       "      <td>-96.127491</td>\n",
       "    </tr>\n",
       "    <tr>\n",
       "      <th>1</th>\n",
       "      <td>27500.0</td>\n",
       "      <td>387260.0</td>\n",
       "      <td>-359760.0</td>\n",
       "      <td>-92.898828</td>\n",
       "    </tr>\n",
       "    <tr>\n",
       "      <th>2</th>\n",
       "      <td>32500.0</td>\n",
       "      <td>386730.0</td>\n",
       "      <td>-354230.0</td>\n",
       "      <td>-91.596204</td>\n",
       "    </tr>\n",
       "    <tr>\n",
       "      <th>3</th>\n",
       "      <td>32500.0</td>\n",
       "      <td>386710.0</td>\n",
       "      <td>-354210.0</td>\n",
       "      <td>-91.595769</td>\n",
       "    </tr>\n",
       "    <tr>\n",
       "      <th>4</th>\n",
       "      <td>34200.0</td>\n",
       "      <td>386370.0</td>\n",
       "      <td>-352170.0</td>\n",
       "      <td>-91.148381</td>\n",
       "    </tr>\n",
       "  </tbody>\n",
       "</table>\n",
       "</div>"
      ],
      "text/plain": [
       "   Valor Correto  Valor_Calculado  Diferenca_Absoluta  Diferenca_Porcentagem\n",
       "0        14999.0         387320.0           -372321.0             -96.127491\n",
       "1        27500.0         387260.0           -359760.0             -92.898828\n",
       "2        32500.0         386730.0           -354230.0             -91.596204\n",
       "3        32500.0         386710.0           -354210.0             -91.595769\n",
       "4        34200.0         386370.0           -352170.0             -91.148381"
      ]
     },
     "execution_count": 469,
     "metadata": {},
     "output_type": "execute_result"
    }
   ],
   "source": [
    "# compara os dados\n",
    "print('Comparando os Dados: ', round(time.time() - tempo_inicial, 3))\n",
    "resultado = target_validacao.reset_index(drop=True).copy()\n",
    "resultado['predicao'] = target_predicao['median_house_value']\n",
    "resultado = resultado.rename(index=str, columns={'median_house_value': 'Valor Correto', 'predicao': 'Valor_Calculado'})\n",
    "resultado['Diferenca_Absoluta'] = resultado['Valor Correto'] - resultado['Valor_Calculado']\n",
    "resultado['Diferenca_Porcentagem'] = (resultado['Valor Correto'] / resultado['Valor_Calculado'] - 1) * 100\n",
    "resultado.head()"
   ]
  },
  {
   "cell_type": "code",
   "execution_count": 470,
   "metadata": {},
   "outputs": [],
   "source": [
    "# salva o resultado em um excel\n",
    "excel = pd.ExcelWriter(F\"Resultado.xlsx\")\n",
    "precos_casa.to_excel(excel, sheet_name='Precos_Casa_Tratado')\n",
    "resultado.to_excel(excel, sheet_name='Comparacao')\n",
    "excel.save()"
   ]
  },
  {
   "cell_type": "code",
   "execution_count": 471,
   "metadata": {},
   "outputs": [
    {
     "name": "stdout",
     "output_type": "stream",
     "text": [
      "Tempo do Programa:  5.406\n"
     ]
    }
   ],
   "source": [
    "print('Tempo do Programa: ', round(time.time() - tempo_inicial, 3))"
   ]
  }
 ],
 "metadata": {
  "kernelspec": {
   "display_name": "Python [default]",
   "language": "python",
   "name": "python3"
  },
  "language_info": {
   "codemirror_mode": {
    "name": "ipython",
    "version": 3
   },
   "file_extension": ".py",
   "mimetype": "text/x-python",
   "name": "python",
   "nbconvert_exporter": "python",
   "pygments_lexer": "ipython3",
   "version": "3.6.6"
  }
 },
 "nbformat": 4,
 "nbformat_minor": 2
}
