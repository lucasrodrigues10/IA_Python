{
 "cells": [
  {
   "cell_type": "code",
   "execution_count": 271,
   "metadata": {},
   "outputs": [
    {
     "data": {
      "text/plain": [
       "'\\nCreated on Wed Sep  5 09:46:49 2018\\n@author: Lucas de Moura Rodrigues\\n@ra: 14.00556-5\\n'"
      ]
     },
     "execution_count": 271,
     "metadata": {},
     "output_type": "execute_result"
    }
   ],
   "source": [
    "# -*- coding: utf-8 -*-\n",
    "\"\"\"\n",
    "Created on Wed Sep  5 09:46:49 2018\n",
    "@author: Lucas de Moura Rodrigues\n",
    "@ra: 14.00556-5\n",
    "\"\"\""
   ]
  },
  {
   "cell_type": "code",
   "execution_count": 272,
   "metadata": {},
   "outputs": [],
   "source": [
    "import time\n",
    "import numpy as np\n",
    "import pandas as pd\n",
    "from sklearn import linear_model,metrics,svm, preprocessing, ensemble, model_selection,feature_extraction \n",
    "import sklearn\n",
    "import matplotlib.pyplot as plt\n",
    "import seaborn as sns\n",
    "%matplotlib inline"
   ]
  },
  {
   "cell_type": "code",
   "execution_count": 273,
   "metadata": {},
   "outputs": [],
   "source": [
    "tempo_inicial = time.time()"
   ]
  },
  {
   "cell_type": "markdown",
   "metadata": {},
   "source": [
    "# Entrada de Dados"
   ]
  },
  {
   "cell_type": "code",
   "execution_count": 274,
   "metadata": {},
   "outputs": [
    {
     "name": "stdout",
     "output_type": "stream",
     "text": [
      "Le e trata os dados:  0.012\n"
     ]
    }
   ],
   "source": [
    "# le o csv\n",
    "print('Le e trata os dados: ', round(time.time() - tempo_inicial, 3))\n",
    "precos_casa = pd.read_csv(\"precos_casa_california.csv\")"
   ]
  },
  {
   "cell_type": "markdown",
   "metadata": {},
   "source": [
    "# Análise de Dados"
   ]
  },
  {
   "cell_type": "code",
   "execution_count": 275,
   "metadata": {},
   "outputs": [
    {
     "data": {
      "text/html": [
       "<div>\n",
       "<style scoped>\n",
       "    .dataframe tbody tr th:only-of-type {\n",
       "        vertical-align: middle;\n",
       "    }\n",
       "\n",
       "    .dataframe tbody tr th {\n",
       "        vertical-align: top;\n",
       "    }\n",
       "\n",
       "    .dataframe thead th {\n",
       "        text-align: right;\n",
       "    }\n",
       "</style>\n",
       "<table border=\"1\" class=\"dataframe\">\n",
       "  <thead>\n",
       "    <tr style=\"text-align: right;\">\n",
       "      <th></th>\n",
       "      <th>longitude</th>\n",
       "      <th>latitude</th>\n",
       "      <th>housing_median_age</th>\n",
       "      <th>total_rooms</th>\n",
       "      <th>total_bedrooms</th>\n",
       "      <th>population</th>\n",
       "      <th>households</th>\n",
       "      <th>median_income</th>\n",
       "      <th>median_house_value</th>\n",
       "      <th>ocean_proximity</th>\n",
       "    </tr>\n",
       "  </thead>\n",
       "  <tbody>\n",
       "    <tr>\n",
       "      <th>0</th>\n",
       "      <td>-122.23</td>\n",
       "      <td>37.88</td>\n",
       "      <td>41.0</td>\n",
       "      <td>880.0</td>\n",
       "      <td>129.0</td>\n",
       "      <td>322.0</td>\n",
       "      <td>126.0</td>\n",
       "      <td>8.3252</td>\n",
       "      <td>452600.0</td>\n",
       "      <td>NEAR BAY</td>\n",
       "    </tr>\n",
       "    <tr>\n",
       "      <th>1</th>\n",
       "      <td>-122.25</td>\n",
       "      <td>37.85</td>\n",
       "      <td>52.0</td>\n",
       "      <td>919.0</td>\n",
       "      <td></td>\n",
       "      <td>413.0</td>\n",
       "      <td></td>\n",
       "      <td>4.0368</td>\n",
       "      <td>269700.0</td>\n",
       "      <td>NEAR BAY</td>\n",
       "    </tr>\n",
       "    <tr>\n",
       "      <th>2</th>\n",
       "      <td>-122.25</td>\n",
       "      <td>37.84</td>\n",
       "      <td>52.0</td>\n",
       "      <td>2535.0</td>\n",
       "      <td>489.0</td>\n",
       "      <td>1094.0</td>\n",
       "      <td>514.0</td>\n",
       "      <td>3.6591</td>\n",
       "      <td>299200.0</td>\n",
       "      <td>NEAR BAY</td>\n",
       "    </tr>\n",
       "  </tbody>\n",
       "</table>\n",
       "</div>"
      ],
      "text/plain": [
       "  longitude  latitude housing_median_age total_rooms total_bedrooms  \\\n",
       "0   -122.23     37.88               41.0       880.0          129.0   \n",
       "1   -122.25     37.85               52.0       919.0                  \n",
       "2   -122.25     37.84               52.0      2535.0          489.0   \n",
       "\n",
       "  population households  median_income median_house_value ocean_proximity  \n",
       "0      322.0      126.0         8.3252           452600.0        NEAR BAY  \n",
       "1      413.0                    4.0368           269700.0        NEAR BAY  \n",
       "2     1094.0      514.0         3.6591           299200.0        NEAR BAY  "
      ]
     },
     "execution_count": 275,
     "metadata": {},
     "output_type": "execute_result"
    }
   ],
   "source": [
    "#analisa os dados do csv\n",
    "precos_casa.head(3)"
   ]
  },
  {
   "cell_type": "code",
   "execution_count": 276,
   "metadata": {},
   "outputs": [
    {
     "data": {
      "text/html": [
       "<div>\n",
       "<style scoped>\n",
       "    .dataframe tbody tr th:only-of-type {\n",
       "        vertical-align: middle;\n",
       "    }\n",
       "\n",
       "    .dataframe tbody tr th {\n",
       "        vertical-align: top;\n",
       "    }\n",
       "\n",
       "    .dataframe thead th {\n",
       "        text-align: right;\n",
       "    }\n",
       "</style>\n",
       "<table border=\"1\" class=\"dataframe\">\n",
       "  <thead>\n",
       "    <tr style=\"text-align: right;\">\n",
       "      <th></th>\n",
       "      <th>latitude</th>\n",
       "      <th>median_income</th>\n",
       "    </tr>\n",
       "  </thead>\n",
       "  <tbody>\n",
       "    <tr>\n",
       "      <th>count</th>\n",
       "      <td>20445.000000</td>\n",
       "      <td>20444.000000</td>\n",
       "    </tr>\n",
       "    <tr>\n",
       "      <th>mean</th>\n",
       "      <td>35.643596</td>\n",
       "      <td>3.876869</td>\n",
       "    </tr>\n",
       "    <tr>\n",
       "      <th>std</th>\n",
       "      <td>2.129236</td>\n",
       "      <td>1.904054</td>\n",
       "    </tr>\n",
       "    <tr>\n",
       "      <th>min</th>\n",
       "      <td>32.540000</td>\n",
       "      <td>0.499900</td>\n",
       "    </tr>\n",
       "    <tr>\n",
       "      <th>25%</th>\n",
       "      <td>33.940000</td>\n",
       "      <td>2.565750</td>\n",
       "    </tr>\n",
       "    <tr>\n",
       "      <th>50%</th>\n",
       "      <td>34.260000</td>\n",
       "      <td>3.540300</td>\n",
       "    </tr>\n",
       "    <tr>\n",
       "      <th>75%</th>\n",
       "      <td>37.720000</td>\n",
       "      <td>4.756600</td>\n",
       "    </tr>\n",
       "    <tr>\n",
       "      <th>max</th>\n",
       "      <td>41.950000</td>\n",
       "      <td>15.000100</td>\n",
       "    </tr>\n",
       "  </tbody>\n",
       "</table>\n",
       "</div>"
      ],
      "text/plain": [
       "           latitude  median_income\n",
       "count  20445.000000   20444.000000\n",
       "mean      35.643596       3.876869\n",
       "std        2.129236       1.904054\n",
       "min       32.540000       0.499900\n",
       "25%       33.940000       2.565750\n",
       "50%       34.260000       3.540300\n",
       "75%       37.720000       4.756600\n",
       "max       41.950000      15.000100"
      ]
     },
     "execution_count": 276,
     "metadata": {},
     "output_type": "execute_result"
    }
   ],
   "source": [
    "# ve as informacoes (estatistica) do Dataframe\n",
    "precos_casa.describe()"
   ]
  },
  {
   "cell_type": "code",
   "execution_count": 277,
   "metadata": {},
   "outputs": [
    {
     "name": "stdout",
     "output_type": "stream",
     "text": [
      "<class 'pandas.core.frame.DataFrame'>\n",
      "RangeIndex: 20445 entries, 0 to 20444\n",
      "Data columns (total 10 columns):\n",
      "longitude             20445 non-null object\n",
      "latitude              20445 non-null float64\n",
      "housing_median_age    20445 non-null object\n",
      "total_rooms           20445 non-null object\n",
      "total_bedrooms        20241 non-null object\n",
      "population            20445 non-null object\n",
      "households            20445 non-null object\n",
      "median_income         20444 non-null float64\n",
      "median_house_value    20445 non-null object\n",
      "ocean_proximity       20445 non-null object\n",
      "dtypes: float64(2), object(8)\n",
      "memory usage: 1.6+ MB\n"
     ]
    }
   ],
   "source": [
    "# ve as informacoes (estrutura) do Dataframe\n",
    "precos_casa.info()"
   ]
  },
  {
   "cell_type": "code",
   "execution_count": 278,
   "metadata": {},
   "outputs": [],
   "source": [
    "# trata o dataframe, tirando outliers e espacos em branco\n",
    "precos_casa = precos_casa.replace(' ', np.nan)\n",
    "precos_casa = precos_casa.dropna()\n",
    "colunas = ['housing_median_age', 'total_rooms', 'total_bedrooms', 'population', 'households', 'median_income', 'median_house_value']\n",
    "for i in colunas:\n",
    "    precos_casa[i] = pd.to_numeric(precos_casa[i])\n",
    "    precos_casa = precos_casa.loc[precos_casa[i] < precos_casa[i].quantile(0.90)]\n",
    "precos_casa = precos_casa.reset_index(drop=True)"
   ]
  },
  {
   "cell_type": "code",
   "execution_count": 279,
   "metadata": {},
   "outputs": [
    {
     "data": {
      "text/html": [
       "<div>\n",
       "<style scoped>\n",
       "    .dataframe tbody tr th:only-of-type {\n",
       "        vertical-align: middle;\n",
       "    }\n",
       "\n",
       "    .dataframe tbody tr th {\n",
       "        vertical-align: top;\n",
       "    }\n",
       "\n",
       "    .dataframe thead th {\n",
       "        text-align: right;\n",
       "    }\n",
       "</style>\n",
       "<table border=\"1\" class=\"dataframe\">\n",
       "  <thead>\n",
       "    <tr style=\"text-align: right;\">\n",
       "      <th></th>\n",
       "      <th>latitude</th>\n",
       "      <th>housing_median_age</th>\n",
       "      <th>total_rooms</th>\n",
       "      <th>total_bedrooms</th>\n",
       "      <th>population</th>\n",
       "      <th>households</th>\n",
       "      <th>median_income</th>\n",
       "      <th>median_house_value</th>\n",
       "    </tr>\n",
       "  </thead>\n",
       "  <tbody>\n",
       "    <tr>\n",
       "      <th>count</th>\n",
       "      <td>9574.000000</td>\n",
       "      <td>9574.000000</td>\n",
       "      <td>9574.000000</td>\n",
       "      <td>9574.000000</td>\n",
       "      <td>9574.000000</td>\n",
       "      <td>9574.000000</td>\n",
       "      <td>9574.000000</td>\n",
       "      <td>9574.000000</td>\n",
       "    </tr>\n",
       "    <tr>\n",
       "      <th>mean</th>\n",
       "      <td>35.801570</td>\n",
       "      <td>28.084291</td>\n",
       "      <td>1680.148841</td>\n",
       "      <td>345.605807</td>\n",
       "      <td>961.377167</td>\n",
       "      <td>321.913411</td>\n",
       "      <td>3.347447</td>\n",
       "      <td>154299.571443</td>\n",
       "    </tr>\n",
       "    <tr>\n",
       "      <th>std</th>\n",
       "      <td>2.236418</td>\n",
       "      <td>10.335483</td>\n",
       "      <td>720.276826</td>\n",
       "      <td>135.152532</td>\n",
       "      <td>395.074728</td>\n",
       "      <td>124.966131</td>\n",
       "      <td>1.243951</td>\n",
       "      <td>64728.652548</td>\n",
       "    </tr>\n",
       "    <tr>\n",
       "      <th>min</th>\n",
       "      <td>32.540000</td>\n",
       "      <td>1.000000</td>\n",
       "      <td>2.000000</td>\n",
       "      <td>2.000000</td>\n",
       "      <td>5.000000</td>\n",
       "      <td>2.000000</td>\n",
       "      <td>0.499900</td>\n",
       "      <td>14999.000000</td>\n",
       "    </tr>\n",
       "    <tr>\n",
       "      <th>25%</th>\n",
       "      <td>33.930000</td>\n",
       "      <td>19.000000</td>\n",
       "      <td>1183.000000</td>\n",
       "      <td>254.000000</td>\n",
       "      <td>691.000000</td>\n",
       "      <td>237.000000</td>\n",
       "      <td>2.366250</td>\n",
       "      <td>98500.000000</td>\n",
       "    </tr>\n",
       "    <tr>\n",
       "      <th>50%</th>\n",
       "      <td>34.680000</td>\n",
       "      <td>30.000000</td>\n",
       "      <td>1650.000000</td>\n",
       "      <td>345.500000</td>\n",
       "      <td>958.000000</td>\n",
       "      <td>326.000000</td>\n",
       "      <td>3.233500</td>\n",
       "      <td>152250.000000</td>\n",
       "    </tr>\n",
       "    <tr>\n",
       "      <th>75%</th>\n",
       "      <td>37.780000</td>\n",
       "      <td>36.000000</td>\n",
       "      <td>2161.750000</td>\n",
       "      <td>444.000000</td>\n",
       "      <td>1251.000000</td>\n",
       "      <td>417.000000</td>\n",
       "      <td>4.238600</td>\n",
       "      <td>201200.000000</td>\n",
       "    </tr>\n",
       "    <tr>\n",
       "      <th>max</th>\n",
       "      <td>41.950000</td>\n",
       "      <td>45.000000</td>\n",
       "      <td>4293.000000</td>\n",
       "      <td>764.000000</td>\n",
       "      <td>1827.000000</td>\n",
       "      <td>554.000000</td>\n",
       "      <td>6.278100</td>\n",
       "      <td>302100.000000</td>\n",
       "    </tr>\n",
       "  </tbody>\n",
       "</table>\n",
       "</div>"
      ],
      "text/plain": [
       "          latitude  housing_median_age  total_rooms  total_bedrooms  \\\n",
       "count  9574.000000         9574.000000  9574.000000     9574.000000   \n",
       "mean     35.801570           28.084291  1680.148841      345.605807   \n",
       "std       2.236418           10.335483   720.276826      135.152532   \n",
       "min      32.540000            1.000000     2.000000        2.000000   \n",
       "25%      33.930000           19.000000  1183.000000      254.000000   \n",
       "50%      34.680000           30.000000  1650.000000      345.500000   \n",
       "75%      37.780000           36.000000  2161.750000      444.000000   \n",
       "max      41.950000           45.000000  4293.000000      764.000000   \n",
       "\n",
       "        population   households  median_income  median_house_value  \n",
       "count  9574.000000  9574.000000    9574.000000         9574.000000  \n",
       "mean    961.377167   321.913411       3.347447       154299.571443  \n",
       "std     395.074728   124.966131       1.243951        64728.652548  \n",
       "min       5.000000     2.000000       0.499900        14999.000000  \n",
       "25%     691.000000   237.000000       2.366250        98500.000000  \n",
       "50%     958.000000   326.000000       3.233500       152250.000000  \n",
       "75%    1251.000000   417.000000       4.238600       201200.000000  \n",
       "max    1827.000000   554.000000       6.278100       302100.000000  "
      ]
     },
     "execution_count": 279,
     "metadata": {},
     "output_type": "execute_result"
    }
   ],
   "source": [
    "precos_casa.describe()"
   ]
  },
  {
   "cell_type": "code",
   "execution_count": 280,
   "metadata": {
    "scrolled": true
   },
   "outputs": [
    {
     "name": "stderr",
     "output_type": "stream",
     "text": [
      "C:\\Users\\U001655\\AppData\\Local\\Continuum\\anaconda3\\lib\\site-packages\\scipy\\stats\\stats.py:1713: FutureWarning: Using a non-tuple sequence for multidimensional indexing is deprecated; use `arr[tuple(seq)]` instead of `arr[seq]`. In the future this will be interpreted as an array index, `arr[np.array(seq)]`, which will result either in an error or a different result.\n",
      "  return np.add.reduce(sorted[indexer] * weights, axis=axis) / sumval\n"
     ]
    },
    {
     "data": {
      "text/plain": [
       "<matplotlib.axes._subplots.AxesSubplot at 0x219dfd3e748>"
      ]
     },
     "execution_count": 280,
     "metadata": {},
     "output_type": "execute_result"
    },
    {
     "data": {
      "image/png": "[encoded data removed]",
      "text/plain": [
       "<Figure size 432x288 with 1 Axes>"
      ]
     },
     "metadata": {},
     "output_type": "display_data"
    }
   ],
   "source": [
    "# plota \n",
    "sns.distplot(precos_casa['median_house_value'])"
   ]
  },
  {
   "cell_type": "markdown",
   "metadata": {},
   "source": [
    "# Tratamento de Dados"
   ]
  },
  {
   "cell_type": "code",
   "execution_count": 281,
   "metadata": {},
   "outputs": [],
   "source": [
    "# separa o dataframe\n",
    "features = precos_casa.loc[:, precos_casa.columns != 'median_house_value']\n",
    "target = precos_casa.loc[:, precos_casa.columns == 'median_house_value']"
   ]
  },
  {
   "cell_type": "code",
   "execution_count": 282,
   "metadata": {},
   "outputs": [
    {
     "data": {
      "text/html": [
       "<div>\n",
       "<style scoped>\n",
       "    .dataframe tbody tr th:only-of-type {\n",
       "        vertical-align: middle;\n",
       "    }\n",
       "\n",
       "    .dataframe tbody tr th {\n",
       "        vertical-align: top;\n",
       "    }\n",
       "\n",
       "    .dataframe thead th {\n",
       "        text-align: right;\n",
       "    }\n",
       "</style>\n",
       "<table border=\"1\" class=\"dataframe\">\n",
       "  <thead>\n",
       "    <tr style=\"text-align: right;\">\n",
       "      <th></th>\n",
       "      <th>longitude</th>\n",
       "      <th>latitude</th>\n",
       "      <th>housing_median_age</th>\n",
       "      <th>total_rooms</th>\n",
       "      <th>total_bedrooms</th>\n",
       "      <th>population</th>\n",
       "      <th>households</th>\n",
       "      <th>median_income</th>\n",
       "      <th>ocean_proximity</th>\n",
       "    </tr>\n",
       "  </thead>\n",
       "  <tbody>\n",
       "    <tr>\n",
       "      <th>0</th>\n",
       "      <td>-122.27</td>\n",
       "      <td>37.85</td>\n",
       "      <td>40.0</td>\n",
       "      <td>751.0</td>\n",
       "      <td>184.0</td>\n",
       "      <td>409.0</td>\n",
       "      <td>166.0</td>\n",
       "      <td>1.3578</td>\n",
       "      <td>NEAR BAY</td>\n",
       "    </tr>\n",
       "    <tr>\n",
       "      <th>1</th>\n",
       "      <td>-122.27</td>\n",
       "      <td>37.85</td>\n",
       "      <td>42.0</td>\n",
       "      <td>1639.0</td>\n",
       "      <td>367.0</td>\n",
       "      <td>929.0</td>\n",
       "      <td>366.0</td>\n",
       "      <td>1.7135</td>\n",
       "      <td>NEAR BAY</td>\n",
       "    </tr>\n",
       "    <tr>\n",
       "      <th>2</th>\n",
       "      <td>-122.28</td>\n",
       "      <td>37.85</td>\n",
       "      <td>41.0</td>\n",
       "      <td>535.0</td>\n",
       "      <td>123.0</td>\n",
       "      <td>317.0</td>\n",
       "      <td>119.0</td>\n",
       "      <td>2.4038</td>\n",
       "      <td>NEAR BAY</td>\n",
       "    </tr>\n",
       "    <tr>\n",
       "      <th>3</th>\n",
       "      <td>-122.27</td>\n",
       "      <td>37.82</td>\n",
       "      <td>43.0</td>\n",
       "      <td>1007.0</td>\n",
       "      <td>312.0</td>\n",
       "      <td>558.0</td>\n",
       "      <td>253.0</td>\n",
       "      <td>1.7348</td>\n",
       "      <td>NEAR BAY</td>\n",
       "    </tr>\n",
       "    <tr>\n",
       "      <th>4</th>\n",
       "      <td>-122.26</td>\n",
       "      <td>37.82</td>\n",
       "      <td>40.0</td>\n",
       "      <td>624.0</td>\n",
       "      <td>195.0</td>\n",
       "      <td>423.0</td>\n",
       "      <td>160.0</td>\n",
       "      <td>0.9506</td>\n",
       "      <td>NEAR BAY</td>\n",
       "    </tr>\n",
       "  </tbody>\n",
       "</table>\n",
       "</div>"
      ],
      "text/plain": [
       "  longitude  latitude  housing_median_age  total_rooms  total_bedrooms  \\\n",
       "0   -122.27     37.85                40.0        751.0           184.0   \n",
       "1   -122.27     37.85                42.0       1639.0           367.0   \n",
       "2   -122.28     37.85                41.0        535.0           123.0   \n",
       "3   -122.27     37.82                43.0       1007.0           312.0   \n",
       "4   -122.26     37.82                40.0        624.0           195.0   \n",
       "\n",
       "   population  households  median_income ocean_proximity  \n",
       "0       409.0       166.0         1.3578        NEAR BAY  \n",
       "1       929.0       366.0         1.7135        NEAR BAY  \n",
       "2       317.0       119.0         2.4038        NEAR BAY  \n",
       "3       558.0       253.0         1.7348        NEAR BAY  \n",
       "4       423.0       160.0         0.9506        NEAR BAY  "
      ]
     },
     "execution_count": 282,
     "metadata": {},
     "output_type": "execute_result"
    }
   ],
   "source": [
    "features.head()"
   ]
  },
  {
   "cell_type": "code",
   "execution_count": 283,
   "metadata": {},
   "outputs": [],
   "source": [
    "# numeriza o ocean com colunas\n",
    "if False:\n",
    "    ocean_num = pd.get_dummies(features['ocean_proximity'])\n",
    "    features = pd.concat([features,ocean_num], axis='columns')\n",
    "    features = features.drop(['ocean_proximity'], axis='columns')\n",
    "    features.head()\n",
    "else:\n",
    "    # numeriza o ocean \n",
    "    dic_ocean = {0: 'NEAR BAY', 1: '<1H OCEAN', 2: 'INLAND', 3: 'NEAR OCEAN', 4: 'ISLAND'}\n",
    "    for chave, valor in dic_ocean.items():\n",
    "        features = features.replace(valor, chave)"
   ]
  },
  {
   "cell_type": "code",
   "execution_count": 284,
   "metadata": {},
   "outputs": [
    {
     "data": {
      "text/html": [
       "<div>\n",
       "<style scoped>\n",
       "    .dataframe tbody tr th:only-of-type {\n",
       "        vertical-align: middle;\n",
       "    }\n",
       "\n",
       "    .dataframe tbody tr th {\n",
       "        vertical-align: top;\n",
       "    }\n",
       "\n",
       "    .dataframe thead th {\n",
       "        text-align: right;\n",
       "    }\n",
       "</style>\n",
       "<table border=\"1\" class=\"dataframe\">\n",
       "  <thead>\n",
       "    <tr style=\"text-align: right;\">\n",
       "      <th></th>\n",
       "      <th>longitude</th>\n",
       "      <th>latitude</th>\n",
       "      <th>housing_median_age</th>\n",
       "      <th>total_rooms</th>\n",
       "      <th>total_bedrooms</th>\n",
       "      <th>population</th>\n",
       "      <th>households</th>\n",
       "      <th>median_income</th>\n",
       "      <th>ocean_proximity</th>\n",
       "    </tr>\n",
       "  </thead>\n",
       "  <tbody>\n",
       "    <tr>\n",
       "      <th>0</th>\n",
       "      <td>-122.27</td>\n",
       "      <td>37.85</td>\n",
       "      <td>40.0</td>\n",
       "      <td>751.0</td>\n",
       "      <td>184.0</td>\n",
       "      <td>409.0</td>\n",
       "      <td>166.0</td>\n",
       "      <td>1.3578</td>\n",
       "      <td>0</td>\n",
       "    </tr>\n",
       "    <tr>\n",
       "      <th>1</th>\n",
       "      <td>-122.27</td>\n",
       "      <td>37.85</td>\n",
       "      <td>42.0</td>\n",
       "      <td>1639.0</td>\n",
       "      <td>367.0</td>\n",
       "      <td>929.0</td>\n",
       "      <td>366.0</td>\n",
       "      <td>1.7135</td>\n",
       "      <td>0</td>\n",
       "    </tr>\n",
       "    <tr>\n",
       "      <th>2</th>\n",
       "      <td>-122.28</td>\n",
       "      <td>37.85</td>\n",
       "      <td>41.0</td>\n",
       "      <td>535.0</td>\n",
       "      <td>123.0</td>\n",
       "      <td>317.0</td>\n",
       "      <td>119.0</td>\n",
       "      <td>2.4038</td>\n",
       "      <td>0</td>\n",
       "    </tr>\n",
       "  </tbody>\n",
       "</table>\n",
       "</div>"
      ],
      "text/plain": [
       "  longitude  latitude  housing_median_age  total_rooms  total_bedrooms  \\\n",
       "0   -122.27     37.85                40.0        751.0           184.0   \n",
       "1   -122.27     37.85                42.0       1639.0           367.0   \n",
       "2   -122.28     37.85                41.0        535.0           123.0   \n",
       "\n",
       "   population  households  median_income  ocean_proximity  \n",
       "0       409.0       166.0         1.3578                0  \n",
       "1       929.0       366.0         1.7135                0  \n",
       "2       317.0       119.0         2.4038                0  "
      ]
     },
     "execution_count": 284,
     "metadata": {},
     "output_type": "execute_result"
    }
   ],
   "source": [
    "features.head(3)"
   ]
  },
  {
   "cell_type": "code",
   "execution_count": 285,
   "metadata": {},
   "outputs": [],
   "source": [
    "# normaliza dados\n",
    "colunas = features.columns\n",
    "min_max_scaler = preprocessing.MinMaxScaler()\n",
    "x_scaled = min_max_scaler.fit_transform(features.values.astype(float))\n",
    "features = pd.DataFrame(x_scaled)\n",
    "features.columns = colunas\n",
    "\n",
    "#normaliza target\n",
    "colunas = target.columns\n",
    "min_max_scaler = preprocessing.MinMaxScaler()\n",
    "x_scaled = min_max_scaler.fit_transform(target.values.astype(float))\n",
    "target = pd.DataFrame(x_scaled)\n",
    "target.columns = colunas"
   ]
  },
  {
   "cell_type": "code",
   "execution_count": 286,
   "metadata": {},
   "outputs": [
    {
     "data": {
      "text/html": [
       "<div>\n",
       "<style scoped>\n",
       "    .dataframe tbody tr th:only-of-type {\n",
       "        vertical-align: middle;\n",
       "    }\n",
       "\n",
       "    .dataframe tbody tr th {\n",
       "        vertical-align: top;\n",
       "    }\n",
       "\n",
       "    .dataframe thead th {\n",
       "        text-align: right;\n",
       "    }\n",
       "</style>\n",
       "<table border=\"1\" class=\"dataframe\">\n",
       "  <thead>\n",
       "    <tr style=\"text-align: right;\">\n",
       "      <th></th>\n",
       "      <th>longitude</th>\n",
       "      <th>latitude</th>\n",
       "      <th>housing_median_age</th>\n",
       "      <th>total_rooms</th>\n",
       "      <th>total_bedrooms</th>\n",
       "      <th>population</th>\n",
       "      <th>households</th>\n",
       "      <th>median_income</th>\n",
       "      <th>ocean_proximity</th>\n",
       "    </tr>\n",
       "  </thead>\n",
       "  <tbody>\n",
       "    <tr>\n",
       "      <th>0</th>\n",
       "      <td>0.206932</td>\n",
       "      <td>0.564293</td>\n",
       "      <td>0.886364</td>\n",
       "      <td>0.174551</td>\n",
       "      <td>0.238845</td>\n",
       "      <td>0.221734</td>\n",
       "      <td>0.297101</td>\n",
       "      <td>0.148472</td>\n",
       "      <td>0.0</td>\n",
       "    </tr>\n",
       "    <tr>\n",
       "      <th>1</th>\n",
       "      <td>0.206932</td>\n",
       "      <td>0.564293</td>\n",
       "      <td>0.931818</td>\n",
       "      <td>0.381496</td>\n",
       "      <td>0.479003</td>\n",
       "      <td>0.507135</td>\n",
       "      <td>0.659420</td>\n",
       "      <td>0.210031</td>\n",
       "      <td>0.0</td>\n",
       "    </tr>\n",
       "    <tr>\n",
       "      <th>2</th>\n",
       "      <td>0.205912</td>\n",
       "      <td>0.564293</td>\n",
       "      <td>0.909091</td>\n",
       "      <td>0.124213</td>\n",
       "      <td>0.158793</td>\n",
       "      <td>0.171240</td>\n",
       "      <td>0.211957</td>\n",
       "      <td>0.329497</td>\n",
       "      <td>0.0</td>\n",
       "    </tr>\n",
       "  </tbody>\n",
       "</table>\n",
       "</div>"
      ],
      "text/plain": [
       "   longitude  latitude  housing_median_age  total_rooms  total_bedrooms  \\\n",
       "0   0.206932  0.564293            0.886364     0.174551        0.238845   \n",
       "1   0.206932  0.564293            0.931818     0.381496        0.479003   \n",
       "2   0.205912  0.564293            0.909091     0.124213        0.158793   \n",
       "\n",
       "   population  households  median_income  ocean_proximity  \n",
       "0    0.221734    0.297101       0.148472              0.0  \n",
       "1    0.507135    0.659420       0.210031              0.0  \n",
       "2    0.171240    0.211957       0.329497              0.0  "
      ]
     },
     "execution_count": 286,
     "metadata": {},
     "output_type": "execute_result"
    }
   ],
   "source": [
    "features.head(3)"
   ]
  },
  {
   "cell_type": "code",
   "execution_count": 287,
   "metadata": {},
   "outputs": [
    {
     "data": {
      "text/html": [
       "<div>\n",
       "<style scoped>\n",
       "    .dataframe tbody tr th:only-of-type {\n",
       "        vertical-align: middle;\n",
       "    }\n",
       "\n",
       "    .dataframe tbody tr th {\n",
       "        vertical-align: top;\n",
       "    }\n",
       "\n",
       "    .dataframe thead th {\n",
       "        text-align: right;\n",
       "    }\n",
       "</style>\n",
       "<table border=\"1\" class=\"dataframe\">\n",
       "  <thead>\n",
       "    <tr style=\"text-align: right;\">\n",
       "      <th></th>\n",
       "      <th>median_house_value</th>\n",
       "    </tr>\n",
       "  </thead>\n",
       "  <tbody>\n",
       "    <tr>\n",
       "      <th>0</th>\n",
       "      <td>0.461514</td>\n",
       "    </tr>\n",
       "    <tr>\n",
       "      <th>1</th>\n",
       "      <td>0.504356</td>\n",
       "    </tr>\n",
       "    <tr>\n",
       "      <th>2</th>\n",
       "      <td>0.322190</td>\n",
       "    </tr>\n",
       "  </tbody>\n",
       "</table>\n",
       "</div>"
      ],
      "text/plain": [
       "   median_house_value\n",
       "0            0.461514\n",
       "1            0.504356\n",
       "2            0.322190"
      ]
     },
     "execution_count": 287,
     "metadata": {},
     "output_type": "execute_result"
    }
   ],
   "source": [
    "target.head(3)"
   ]
  },
  {
   "cell_type": "code",
   "execution_count": 288,
   "metadata": {},
   "outputs": [],
   "source": [
    "# separa o dataframe: treino = 0 - 40%  teste = 40 - 100%\n",
    "features_treino, features_teste, target_treino, target_teste = model_selection.train_test_split(features, target, test_size=0.4, random_state=101)"
   ]
  },
  {
   "cell_type": "code",
   "execution_count": 289,
   "metadata": {},
   "outputs": [
    {
     "data": {
      "text/html": [
       "<div>\n",
       "<style scoped>\n",
       "    .dataframe tbody tr th:only-of-type {\n",
       "        vertical-align: middle;\n",
       "    }\n",
       "\n",
       "    .dataframe tbody tr th {\n",
       "        vertical-align: top;\n",
       "    }\n",
       "\n",
       "    .dataframe thead th {\n",
       "        text-align: right;\n",
       "    }\n",
       "</style>\n",
       "<table border=\"1\" class=\"dataframe\">\n",
       "  <thead>\n",
       "    <tr style=\"text-align: right;\">\n",
       "      <th></th>\n",
       "      <th>longitude</th>\n",
       "      <th>latitude</th>\n",
       "      <th>housing_median_age</th>\n",
       "      <th>total_rooms</th>\n",
       "      <th>total_bedrooms</th>\n",
       "      <th>population</th>\n",
       "      <th>households</th>\n",
       "      <th>median_income</th>\n",
       "      <th>ocean_proximity</th>\n",
       "    </tr>\n",
       "  </thead>\n",
       "  <tbody>\n",
       "    <tr>\n",
       "      <th>6371</th>\n",
       "      <td>0.680938</td>\n",
       "      <td>0.157279</td>\n",
       "      <td>0.340909</td>\n",
       "      <td>0.474948</td>\n",
       "      <td>0.423885</td>\n",
       "      <td>0.659715</td>\n",
       "      <td>0.583333</td>\n",
       "      <td>0.786266</td>\n",
       "      <td>0.50</td>\n",
       "    </tr>\n",
       "    <tr>\n",
       "      <th>6959</th>\n",
       "      <td>0.728848</td>\n",
       "      <td>0.027630</td>\n",
       "      <td>0.909091</td>\n",
       "      <td>0.328828</td>\n",
       "      <td>0.339895</td>\n",
       "      <td>0.584523</td>\n",
       "      <td>0.465580</td>\n",
       "      <td>0.321536</td>\n",
       "      <td>0.75</td>\n",
       "    </tr>\n",
       "    <tr>\n",
       "      <th>6364</th>\n",
       "      <td>0.674822</td>\n",
       "      <td>0.159405</td>\n",
       "      <td>0.590909</td>\n",
       "      <td>0.133302</td>\n",
       "      <td>0.132546</td>\n",
       "      <td>0.173436</td>\n",
       "      <td>0.182971</td>\n",
       "      <td>0.590288</td>\n",
       "      <td>0.50</td>\n",
       "    </tr>\n",
       "  </tbody>\n",
       "</table>\n",
       "</div>"
      ],
      "text/plain": [
       "      longitude  latitude  housing_median_age  total_rooms  total_bedrooms  \\\n",
       "6371   0.680938  0.157279            0.340909     0.474948        0.423885   \n",
       "6959   0.728848  0.027630            0.909091     0.328828        0.339895   \n",
       "6364   0.674822  0.159405            0.590909     0.133302        0.132546   \n",
       "\n",
       "      population  households  median_income  ocean_proximity  \n",
       "6371    0.659715    0.583333       0.786266             0.50  \n",
       "6959    0.584523    0.465580       0.321536             0.75  \n",
       "6364    0.173436    0.182971       0.590288             0.50  "
      ]
     },
     "execution_count": 289,
     "metadata": {},
     "output_type": "execute_result"
    }
   ],
   "source": [
    "features_treino.head(3)"
   ]
  },
  {
   "cell_type": "code",
   "execution_count": 290,
   "metadata": {},
   "outputs": [
    {
     "data": {
      "text/html": [
       "<div>\n",
       "<style scoped>\n",
       "    .dataframe tbody tr th:only-of-type {\n",
       "        vertical-align: middle;\n",
       "    }\n",
       "\n",
       "    .dataframe tbody tr th {\n",
       "        vertical-align: top;\n",
       "    }\n",
       "\n",
       "    .dataframe thead th {\n",
       "        text-align: right;\n",
       "    }\n",
       "</style>\n",
       "<table border=\"1\" class=\"dataframe\">\n",
       "  <thead>\n",
       "    <tr style=\"text-align: right;\">\n",
       "      <th></th>\n",
       "      <th>longitude</th>\n",
       "      <th>latitude</th>\n",
       "      <th>housing_median_age</th>\n",
       "      <th>total_rooms</th>\n",
       "      <th>total_bedrooms</th>\n",
       "      <th>population</th>\n",
       "      <th>households</th>\n",
       "      <th>median_income</th>\n",
       "      <th>ocean_proximity</th>\n",
       "    </tr>\n",
       "  </thead>\n",
       "  <tbody>\n",
       "    <tr>\n",
       "      <th>5646</th>\n",
       "      <td>0.365953</td>\n",
       "      <td>0.806589</td>\n",
       "      <td>0.409091</td>\n",
       "      <td>0.208576</td>\n",
       "      <td>0.233596</td>\n",
       "      <td>0.148738</td>\n",
       "      <td>0.195652</td>\n",
       "      <td>0.424959</td>\n",
       "      <td>0.50</td>\n",
       "    </tr>\n",
       "    <tr>\n",
       "      <th>5447</th>\n",
       "      <td>0.644241</td>\n",
       "      <td>0.125399</td>\n",
       "      <td>0.522727</td>\n",
       "      <td>0.658122</td>\n",
       "      <td>0.715223</td>\n",
       "      <td>0.951153</td>\n",
       "      <td>0.985507</td>\n",
       "      <td>0.960420</td>\n",
       "      <td>0.25</td>\n",
       "    </tr>\n",
       "    <tr>\n",
       "      <th>2890</th>\n",
       "      <td>0.668705</td>\n",
       "      <td>0.160468</td>\n",
       "      <td>0.659091</td>\n",
       "      <td>0.275693</td>\n",
       "      <td>0.413386</td>\n",
       "      <td>0.801866</td>\n",
       "      <td>0.543478</td>\n",
       "      <td>0.367779</td>\n",
       "      <td>0.50</td>\n",
       "    </tr>\n",
       "  </tbody>\n",
       "</table>\n",
       "</div>"
      ],
      "text/plain": [
       "      longitude  latitude  housing_median_age  total_rooms  total_bedrooms  \\\n",
       "5646   0.365953  0.806589            0.409091     0.208576        0.233596   \n",
       "5447   0.644241  0.125399            0.522727     0.658122        0.715223   \n",
       "2890   0.668705  0.160468            0.659091     0.275693        0.413386   \n",
       "\n",
       "      population  households  median_income  ocean_proximity  \n",
       "5646    0.148738    0.195652       0.424959             0.50  \n",
       "5447    0.951153    0.985507       0.960420             0.25  \n",
       "2890    0.801866    0.543478       0.367779             0.50  "
      ]
     },
     "execution_count": 290,
     "metadata": {},
     "output_type": "execute_result"
    }
   ],
   "source": [
    "features_teste.head(3)"
   ]
  },
  {
   "cell_type": "code",
   "execution_count": 291,
   "metadata": {},
   "outputs": [
    {
     "data": {
      "text/html": [
       "<div>\n",
       "<style scoped>\n",
       "    .dataframe tbody tr th:only-of-type {\n",
       "        vertical-align: middle;\n",
       "    }\n",
       "\n",
       "    .dataframe tbody tr th {\n",
       "        vertical-align: top;\n",
       "    }\n",
       "\n",
       "    .dataframe thead th {\n",
       "        text-align: right;\n",
       "    }\n",
       "</style>\n",
       "<table border=\"1\" class=\"dataframe\">\n",
       "  <thead>\n",
       "    <tr style=\"text-align: right;\">\n",
       "      <th></th>\n",
       "      <th>median_house_value</th>\n",
       "    </tr>\n",
       "  </thead>\n",
       "  <tbody>\n",
       "    <tr>\n",
       "      <th>6371</th>\n",
       "      <td>0.519333</td>\n",
       "    </tr>\n",
       "    <tr>\n",
       "      <th>6959</th>\n",
       "      <td>0.528389</td>\n",
       "    </tr>\n",
       "    <tr>\n",
       "      <th>6364</th>\n",
       "      <td>0.597354</td>\n",
       "    </tr>\n",
       "    <tr>\n",
       "      <th>5421</th>\n",
       "      <td>0.748869</td>\n",
       "    </tr>\n",
       "    <tr>\n",
       "      <th>6834</th>\n",
       "      <td>0.716128</td>\n",
       "    </tr>\n",
       "  </tbody>\n",
       "</table>\n",
       "</div>"
      ],
      "text/plain": [
       "      median_house_value\n",
       "6371            0.519333\n",
       "6959            0.528389\n",
       "6364            0.597354\n",
       "5421            0.748869\n",
       "6834            0.716128"
      ]
     },
     "execution_count": 291,
     "metadata": {},
     "output_type": "execute_result"
    }
   ],
   "source": [
    "target_treino.head()"
   ]
  },
  {
   "cell_type": "code",
   "execution_count": 292,
   "metadata": {},
   "outputs": [
    {
     "data": {
      "text/html": [
       "<div>\n",
       "<style scoped>\n",
       "    .dataframe tbody tr th:only-of-type {\n",
       "        vertical-align: middle;\n",
       "    }\n",
       "\n",
       "    .dataframe tbody tr th {\n",
       "        vertical-align: top;\n",
       "    }\n",
       "\n",
       "    .dataframe thead th {\n",
       "        text-align: right;\n",
       "    }\n",
       "</style>\n",
       "<table border=\"1\" class=\"dataframe\">\n",
       "  <thead>\n",
       "    <tr style=\"text-align: right;\">\n",
       "      <th></th>\n",
       "      <th>median_house_value</th>\n",
       "    </tr>\n",
       "  </thead>\n",
       "  <tbody>\n",
       "    <tr>\n",
       "      <th>5646</th>\n",
       "      <td>0.259146</td>\n",
       "    </tr>\n",
       "    <tr>\n",
       "      <th>5447</th>\n",
       "      <td>0.785093</td>\n",
       "    </tr>\n",
       "    <tr>\n",
       "      <th>2890</th>\n",
       "      <td>0.276213</td>\n",
       "    </tr>\n",
       "    <tr>\n",
       "      <th>3537</th>\n",
       "      <td>0.347616</td>\n",
       "    </tr>\n",
       "    <tr>\n",
       "      <th>3752</th>\n",
       "      <td>0.542670</td>\n",
       "    </tr>\n",
       "  </tbody>\n",
       "</table>\n",
       "</div>"
      ],
      "text/plain": [
       "      median_house_value\n",
       "5646            0.259146\n",
       "5447            0.785093\n",
       "2890            0.276213\n",
       "3537            0.347616\n",
       "3752            0.542670"
      ]
     },
     "execution_count": 292,
     "metadata": {},
     "output_type": "execute_result"
    }
   ],
   "source": [
    "target_teste.head()"
   ]
  },
  {
   "cell_type": "markdown",
   "metadata": {},
   "source": [
    "# Machine Learning"
   ]
  },
  {
   "cell_type": "code",
   "execution_count": 293,
   "metadata": {},
   "outputs": [
    {
     "name": "stdout",
     "output_type": "stream",
     "text": [
      "Predicao dos Dados:  1.054\n"
     ]
    }
   ],
   "source": [
    "# machine learning\n",
    "print('Predicao dos Dados: ', round(time.time() - tempo_inicial, 3))\n",
    "#raul = linear_model.LassoLars(alpha=.1)  # 25480756266.08841\n",
    "#raul = linear_model.Ridge (alpha = .5) # 25490381018.173256\n",
    "#raul = svm.SVR() # 6922054605.659882\n",
    "#raul = linear_model.Lasso()  \n",
    "raul = ensemble.BaggingRegressor()\n",
    "#raul = linear_model.SGDRegressor() # infinito\n",
    "#raul = ensemble.GradientBoostingRegressor()\n",
    "raul.fit(features_treino.values, target_treino.values.ravel())\n",
    "predicao = raul.predict(features_teste)"
   ]
  },
  {
   "cell_type": "code",
   "execution_count": 294,
   "metadata": {},
   "outputs": [
    {
     "data": {
      "text/plain": [
       "array([0.3009777 , 0.82213228, 0.36485766, ..., 0.62201455, 0.4685494 ,\n",
       "       0.508396  ])"
      ]
     },
     "execution_count": 294,
     "metadata": {},
     "output_type": "execute_result"
    }
   ],
   "source": [
    "predicao"
   ]
  },
  {
   "cell_type": "code",
   "execution_count": 295,
   "metadata": {},
   "outputs": [
    {
     "data": {
      "text/html": [
       "<div>\n",
       "<style scoped>\n",
       "    .dataframe tbody tr th:only-of-type {\n",
       "        vertical-align: middle;\n",
       "    }\n",
       "\n",
       "    .dataframe tbody tr th {\n",
       "        vertical-align: top;\n",
       "    }\n",
       "\n",
       "    .dataframe thead th {\n",
       "        text-align: right;\n",
       "    }\n",
       "</style>\n",
       "<table border=\"1\" class=\"dataframe\">\n",
       "  <thead>\n",
       "    <tr style=\"text-align: right;\">\n",
       "      <th></th>\n",
       "      <th>median_house_value</th>\n",
       "    </tr>\n",
       "  </thead>\n",
       "  <tbody>\n",
       "    <tr>\n",
       "      <th>0</th>\n",
       "      <td>0.300978</td>\n",
       "    </tr>\n",
       "    <tr>\n",
       "      <th>1</th>\n",
       "      <td>0.822132</td>\n",
       "    </tr>\n",
       "    <tr>\n",
       "      <th>2</th>\n",
       "      <td>0.364858</td>\n",
       "    </tr>\n",
       "    <tr>\n",
       "      <th>3</th>\n",
       "      <td>0.316025</td>\n",
       "    </tr>\n",
       "    <tr>\n",
       "      <th>4</th>\n",
       "      <td>0.571823</td>\n",
       "    </tr>\n",
       "  </tbody>\n",
       "</table>\n",
       "</div>"
      ],
      "text/plain": [
       "   median_house_value\n",
       "0            0.300978\n",
       "1            0.822132\n",
       "2            0.364858\n",
       "3            0.316025\n",
       "4            0.571823"
      ]
     },
     "execution_count": 295,
     "metadata": {},
     "output_type": "execute_result"
    }
   ],
   "source": [
    "# array -> dataframe\n",
    "predicao = [float(i) for i in predicao]\n",
    "predicao = pd.DataFrame(data=predicao,columns=['median_house_value']).reset_index(drop=True)\n",
    "predicao.head()"
   ]
  },
  {
   "cell_type": "markdown",
   "metadata": {},
   "source": [
    "# Resultado"
   ]
  },
  {
   "cell_type": "markdown",
   "metadata": {},
   "source": [
    "## RMSE "
   ]
  },
  {
   "cell_type": "code",
   "execution_count": 296,
   "metadata": {},
   "outputs": [
    {
     "data": {
      "text/plain": [
       "0.1194064740516107"
      ]
     },
     "execution_count": 296,
     "metadata": {},
     "output_type": "execute_result"
    }
   ],
   "source": [
    "np.sqrt(sklearn.metrics.mean_squared_error(target_teste, predicao))"
   ]
  },
  {
   "cell_type": "markdown",
   "metadata": {},
   "source": [
    "## Teste"
   ]
  },
  {
   "cell_type": "code",
   "execution_count": 297,
   "metadata": {},
   "outputs": [
    {
     "name": "stdout",
     "output_type": "stream",
     "text": [
      "72.341%\n"
     ]
    }
   ],
   "source": [
    "print(str(round(raul.score(features_teste, target_teste)*100,3)) + \"%\")"
   ]
  },
  {
   "cell_type": "markdown",
   "metadata": {},
   "source": [
    "## Treino"
   ]
  },
  {
   "cell_type": "code",
   "execution_count": 298,
   "metadata": {},
   "outputs": [
    {
     "name": "stdout",
     "output_type": "stream",
     "text": [
      "94.58%\n"
     ]
    }
   ],
   "source": [
    "print(str(round(raul.score(features_treino, target_treino)*100,3)) + \"%\")"
   ]
  },
  {
   "cell_type": "code",
   "execution_count": 299,
   "metadata": {},
   "outputs": [
    {
     "name": "stdout",
     "output_type": "stream",
     "text": [
      "Comparando os Dados:  1.42\n"
     ]
    },
    {
     "data": {
      "text/html": [
       "<div>\n",
       "<style scoped>\n",
       "    .dataframe tbody tr th:only-of-type {\n",
       "        vertical-align: middle;\n",
       "    }\n",
       "\n",
       "    .dataframe tbody tr th {\n",
       "        vertical-align: top;\n",
       "    }\n",
       "\n",
       "    .dataframe thead th {\n",
       "        text-align: right;\n",
       "    }\n",
       "</style>\n",
       "<table border=\"1\" class=\"dataframe\">\n",
       "  <thead>\n",
       "    <tr style=\"text-align: right;\">\n",
       "      <th></th>\n",
       "      <th>Valor Correto</th>\n",
       "      <th>Valor_Calculado</th>\n",
       "      <th>Diferenca_Absoluta</th>\n",
       "      <th>Diferenca_Porcentagem</th>\n",
       "    </tr>\n",
       "  </thead>\n",
       "  <tbody>\n",
       "    <tr>\n",
       "      <th>0</th>\n",
       "      <td>0.259146</td>\n",
       "      <td>0.300978</td>\n",
       "      <td>-0.041832</td>\n",
       "      <td>13.898693</td>\n",
       "    </tr>\n",
       "    <tr>\n",
       "      <th>1</th>\n",
       "      <td>0.785093</td>\n",
       "      <td>0.822132</td>\n",
       "      <td>-0.037039</td>\n",
       "      <td>4.505264</td>\n",
       "    </tr>\n",
       "    <tr>\n",
       "      <th>2</th>\n",
       "      <td>0.276213</td>\n",
       "      <td>0.364858</td>\n",
       "      <td>-0.088645</td>\n",
       "      <td>24.295711</td>\n",
       "    </tr>\n",
       "    <tr>\n",
       "      <th>3</th>\n",
       "      <td>0.347616</td>\n",
       "      <td>0.316025</td>\n",
       "      <td>0.031592</td>\n",
       "      <td>9.996583</td>\n",
       "    </tr>\n",
       "    <tr>\n",
       "      <th>4</th>\n",
       "      <td>0.542670</td>\n",
       "      <td>0.571823</td>\n",
       "      <td>-0.029154</td>\n",
       "      <td>5.098343</td>\n",
       "    </tr>\n",
       "  </tbody>\n",
       "</table>\n",
       "</div>"
      ],
      "text/plain": [
       "   Valor Correto  Valor_Calculado  Diferenca_Absoluta  Diferenca_Porcentagem\n",
       "0       0.259146         0.300978           -0.041832              13.898693\n",
       "1       0.785093         0.822132           -0.037039               4.505264\n",
       "2       0.276213         0.364858           -0.088645              24.295711\n",
       "3       0.347616         0.316025            0.031592               9.996583\n",
       "4       0.542670         0.571823           -0.029154               5.098343"
      ]
     },
     "execution_count": 299,
     "metadata": {},
     "output_type": "execute_result"
    }
   ],
   "source": [
    "# cria um dataframe para comparar os dados e confirmar se fiz sertu\n",
    "print('Comparando os Dados: ', round(time.time() - tempo_inicial, 3))\n",
    "resultado = target_teste.reset_index(drop=True).copy()\n",
    "resultado['predicao'] = predicao['median_house_value']\n",
    "resultado = resultado.rename(index=str, columns={'median_house_value': 'Valor Correto', 'predicao': 'Valor_Calculado'})\n",
    "resultado['Diferenca_Absoluta'] = resultado['Valor Correto'] - resultado['Valor_Calculado']\n",
    "resultado['Diferenca_Porcentagem'] = (resultado['Valor Correto'] / resultado['Valor_Calculado'] - 1) * 100\n",
    "resultado['Diferenca_Porcentagem'] = resultado['Diferenca_Porcentagem'].abs()\n",
    "resultado.head()"
   ]
  },
  {
   "cell_type": "code",
   "execution_count": 300,
   "metadata": {},
   "outputs": [],
   "source": [
    "# salva o resultado em um excel\n",
    "excel = pd.ExcelWriter(F\"Resultado.xlsx\")\n",
    "precos_casa.to_excel(excel, sheet_name='Precos_Casa_Tratado')\n",
    "resultado.to_excel(excel, sheet_name='Comparacao')\n",
    "excel.save()"
   ]
  },
  {
   "cell_type": "code",
   "execution_count": 301,
   "metadata": {},
   "outputs": [
    {
     "name": "stdout",
     "output_type": "stream",
     "text": [
      "Tempo do Programa:  3.144\n"
     ]
    }
   ],
   "source": [
    "print('Tempo do Programa: ', round(time.time() - tempo_inicial, 3))"
   ]
  },
  {
   "cell_type": "code",
   "execution_count": null,
   "metadata": {},
   "outputs": [],
   "source": []
  }
 ],
 "metadata": {
  "kernelspec": {
   "display_name": "Python 3",
   "language": "python",
   "name": "python3"
  },
  "language_info": {
   "codemirror_mode": {
    "name": "ipython",
    "version": 3
   },
   "file_extension": ".py",
   "mimetype": "text/x-python",
   "name": "python",
   "nbconvert_exporter": "python",
   "pygments_lexer": "ipython3",
   "version": "3.6.6"
  }
 },
 "nbformat": 4,
 "nbformat_minor": 2
}
