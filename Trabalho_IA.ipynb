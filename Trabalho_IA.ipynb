{
 "cells": [
  {
   "cell_type": "code",
   "execution_count": 28,
   "metadata": {},
   "outputs": [
    {
     "data": {
      "text/plain": [
       "'\\nCreated on Wed Sep  5 09:46:49 2018\\n@author: Lucas de Moura Rodrigues\\n@ra: 14.00556-5\\n'"
      ]
     },
     "execution_count": 28,
     "metadata": {},
     "output_type": "execute_result"
    }
   ],
   "source": [
    "# -*- coding: utf-8 -*-\n",
    "\"\"\"\n",
    "Created on Wed Sep  5 09:46:49 2018\n",
    "@author: Lucas de Moura Rodrigues\n",
    "@ra: 14.00556-5\n",
    "\"\"\""
   ]
  },
  {
   "cell_type": "code",
   "execution_count": 47,
   "metadata": {},
   "outputs": [],
   "source": [
    "import time\n",
    "import numpy as np\n",
    "import pandas as pd\n",
    "from sklearn import linear_model,metrics,svm, preprocessing, ensemble, model_selection\n",
    "import sklearn\n",
    "import matplotlib.pyplot as plt\n",
    "import seaborn as sns\n",
    "%matplotlib inline"
   ]
  },
  {
   "cell_type": "code",
   "execution_count": 48,
   "metadata": {},
   "outputs": [],
   "source": [
    "tempo_inicial = time.time()"
   ]
  },
  {
   "cell_type": "code",
   "execution_count": 49,
   "metadata": {},
   "outputs": [
    {
     "name": "stdout",
     "output_type": "stream",
     "text": [
      "Le e trata os dados:  0.175\n"
     ]
    }
   ],
   "source": [
    "# le o csv\n",
    "print('Le e trata os dados: ', round(time.time() - tempo_inicial, 3))\n",
    "precos_casa = pd.read_csv(\"precos_casa_california.csv\")"
   ]
  },
  {
   "cell_type": "code",
   "execution_count": 50,
   "metadata": {},
   "outputs": [
    {
     "data": {
      "text/html": [
       "<div>\n",
       "<style scoped>\n",
       "    .dataframe tbody tr th:only-of-type {\n",
       "        vertical-align: middle;\n",
       "    }\n",
       "\n",
       "    .dataframe tbody tr th {\n",
       "        vertical-align: top;\n",
       "    }\n",
       "\n",
       "    .dataframe thead th {\n",
       "        text-align: right;\n",
       "    }\n",
       "</style>\n",
       "<table border=\"1\" class=\"dataframe\">\n",
       "  <thead>\n",
       "    <tr style=\"text-align: right;\">\n",
       "      <th></th>\n",
       "      <th>longitude</th>\n",
       "      <th>latitude</th>\n",
       "      <th>housing_median_age</th>\n",
       "      <th>total_rooms</th>\n",
       "      <th>total_bedrooms</th>\n",
       "      <th>population</th>\n",
       "      <th>households</th>\n",
       "      <th>median_income</th>\n",
       "      <th>median_house_value</th>\n",
       "      <th>ocean_proximity</th>\n",
       "    </tr>\n",
       "  </thead>\n",
       "  <tbody>\n",
       "    <tr>\n",
       "      <th>0</th>\n",
       "      <td>-122.23</td>\n",
       "      <td>37.88</td>\n",
       "      <td>41.0</td>\n",
       "      <td>880.0</td>\n",
       "      <td>129.0</td>\n",
       "      <td>322.0</td>\n",
       "      <td>126.0</td>\n",
       "      <td>8.3252</td>\n",
       "      <td>452600.0</td>\n",
       "      <td>NEAR BAY</td>\n",
       "    </tr>\n",
       "    <tr>\n",
       "      <th>1</th>\n",
       "      <td>-122.25</td>\n",
       "      <td>37.85</td>\n",
       "      <td>52.0</td>\n",
       "      <td>919.0</td>\n",
       "      <td></td>\n",
       "      <td>413.0</td>\n",
       "      <td></td>\n",
       "      <td>4.0368</td>\n",
       "      <td>269700.0</td>\n",
       "      <td>NEAR BAY</td>\n",
       "    </tr>\n",
       "    <tr>\n",
       "      <th>2</th>\n",
       "      <td>-122.25</td>\n",
       "      <td>37.84</td>\n",
       "      <td>52.0</td>\n",
       "      <td>2535.0</td>\n",
       "      <td>489.0</td>\n",
       "      <td>1094.0</td>\n",
       "      <td>514.0</td>\n",
       "      <td>3.6591</td>\n",
       "      <td>299200.0</td>\n",
       "      <td>NEAR BAY</td>\n",
       "    </tr>\n",
       "  </tbody>\n",
       "</table>\n",
       "</div>"
      ],
      "text/plain": [
       "  longitude  latitude housing_median_age total_rooms total_bedrooms  \\\n",
       "0   -122.23     37.88               41.0       880.0          129.0   \n",
       "1   -122.25     37.85               52.0       919.0                  \n",
       "2   -122.25     37.84               52.0      2535.0          489.0   \n",
       "\n",
       "  population households  median_income median_house_value ocean_proximity  \n",
       "0      322.0      126.0         8.3252           452600.0        NEAR BAY  \n",
       "1      413.0                    4.0368           269700.0        NEAR BAY  \n",
       "2     1094.0      514.0         3.6591           299200.0        NEAR BAY  "
      ]
     },
     "execution_count": 50,
     "metadata": {},
     "output_type": "execute_result"
    }
   ],
   "source": [
    "#analisa os dados do csv\n",
    "precos_casa.head(3)"
   ]
  },
  {
   "cell_type": "code",
   "execution_count": 51,
   "metadata": {},
   "outputs": [
    {
     "data": {
      "text/html": [
       "<div>\n",
       "<style scoped>\n",
       "    .dataframe tbody tr th:only-of-type {\n",
       "        vertical-align: middle;\n",
       "    }\n",
       "\n",
       "    .dataframe tbody tr th {\n",
       "        vertical-align: top;\n",
       "    }\n",
       "\n",
       "    .dataframe thead th {\n",
       "        text-align: right;\n",
       "    }\n",
       "</style>\n",
       "<table border=\"1\" class=\"dataframe\">\n",
       "  <thead>\n",
       "    <tr style=\"text-align: right;\">\n",
       "      <th></th>\n",
       "      <th>latitude</th>\n",
       "      <th>median_income</th>\n",
       "    </tr>\n",
       "  </thead>\n",
       "  <tbody>\n",
       "    <tr>\n",
       "      <th>count</th>\n",
       "      <td>20445.000000</td>\n",
       "      <td>20444.000000</td>\n",
       "    </tr>\n",
       "    <tr>\n",
       "      <th>mean</th>\n",
       "      <td>35.643596</td>\n",
       "      <td>3.876869</td>\n",
       "    </tr>\n",
       "    <tr>\n",
       "      <th>std</th>\n",
       "      <td>2.129236</td>\n",
       "      <td>1.904054</td>\n",
       "    </tr>\n",
       "    <tr>\n",
       "      <th>min</th>\n",
       "      <td>32.540000</td>\n",
       "      <td>0.499900</td>\n",
       "    </tr>\n",
       "    <tr>\n",
       "      <th>25%</th>\n",
       "      <td>33.940000</td>\n",
       "      <td>2.565750</td>\n",
       "    </tr>\n",
       "    <tr>\n",
       "      <th>50%</th>\n",
       "      <td>34.260000</td>\n",
       "      <td>3.540300</td>\n",
       "    </tr>\n",
       "    <tr>\n",
       "      <th>75%</th>\n",
       "      <td>37.720000</td>\n",
       "      <td>4.756600</td>\n",
       "    </tr>\n",
       "    <tr>\n",
       "      <th>max</th>\n",
       "      <td>41.950000</td>\n",
       "      <td>15.000100</td>\n",
       "    </tr>\n",
       "  </tbody>\n",
       "</table>\n",
       "</div>"
      ],
      "text/plain": [
       "           latitude  median_income\n",
       "count  20445.000000   20444.000000\n",
       "mean      35.643596       3.876869\n",
       "std        2.129236       1.904054\n",
       "min       32.540000       0.499900\n",
       "25%       33.940000       2.565750\n",
       "50%       34.260000       3.540300\n",
       "75%       37.720000       4.756600\n",
       "max       41.950000      15.000100"
      ]
     },
     "execution_count": 51,
     "metadata": {},
     "output_type": "execute_result"
    }
   ],
   "source": [
    "# ve as informacoes (estatistica) do Dataframe\n",
    "precos_casa.describe()"
   ]
  },
  {
   "cell_type": "code",
   "execution_count": 52,
   "metadata": {},
   "outputs": [
    {
     "name": "stdout",
     "output_type": "stream",
     "text": [
      "<class 'pandas.core.frame.DataFrame'>\n",
      "RangeIndex: 20445 entries, 0 to 20444\n",
      "Data columns (total 10 columns):\n",
      "longitude             20445 non-null object\n",
      "latitude              20445 non-null float64\n",
      "housing_median_age    20445 non-null object\n",
      "total_rooms           20445 non-null object\n",
      "total_bedrooms        20241 non-null object\n",
      "population            20445 non-null object\n",
      "households            20445 non-null object\n",
      "median_income         20444 non-null float64\n",
      "median_house_value    20445 non-null object\n",
      "ocean_proximity       20445 non-null object\n",
      "dtypes: float64(2), object(8)\n",
      "memory usage: 1.6+ MB\n"
     ]
    }
   ],
   "source": [
    "# ve as informacoes (estrutura) do Dataframe\n",
    "precos_casa.info()"
   ]
  },
  {
   "cell_type": "code",
   "execution_count": 53,
   "metadata": {},
   "outputs": [],
   "source": [
    "# trata o dataframe, tirando outliers e espacos em branco\n",
    "precos_casa = precos_casa.replace(' ', np.nan)\n",
    "precos_casa = precos_casa.dropna()\n",
    "colunas = ['housing_median_age', 'total_rooms', 'total_bedrooms', 'population', 'households', 'median_income', 'median_house_value']\n",
    "for i in colunas:\n",
    "    precos_casa[i] = pd.to_numeric(precos_casa[i])\n",
    "    precos_casa = precos_casa.loc[precos_casa[i] < precos_casa[i].quantile(0.95)]\n",
    "precos_casa = precos_casa.reset_index(drop=True)"
   ]
  },
  {
   "cell_type": "code",
   "execution_count": 54,
   "metadata": {},
   "outputs": [
    {
     "data": {
      "text/html": [
       "<div>\n",
       "<style scoped>\n",
       "    .dataframe tbody tr th:only-of-type {\n",
       "        vertical-align: middle;\n",
       "    }\n",
       "\n",
       "    .dataframe tbody tr th {\n",
       "        vertical-align: top;\n",
       "    }\n",
       "\n",
       "    .dataframe thead th {\n",
       "        text-align: right;\n",
       "    }\n",
       "</style>\n",
       "<table border=\"1\" class=\"dataframe\">\n",
       "  <thead>\n",
       "    <tr style=\"text-align: right;\">\n",
       "      <th></th>\n",
       "      <th>latitude</th>\n",
       "      <th>housing_median_age</th>\n",
       "      <th>total_rooms</th>\n",
       "      <th>total_bedrooms</th>\n",
       "      <th>population</th>\n",
       "      <th>households</th>\n",
       "      <th>median_income</th>\n",
       "      <th>median_house_value</th>\n",
       "    </tr>\n",
       "  </thead>\n",
       "  <tbody>\n",
       "    <tr>\n",
       "      <th>count</th>\n",
       "      <td>13930.000000</td>\n",
       "      <td>13930.000000</td>\n",
       "      <td>13930.000000</td>\n",
       "      <td>13930.000000</td>\n",
       "      <td>13930.000000</td>\n",
       "      <td>13930.000000</td>\n",
       "      <td>13930.000000</td>\n",
       "      <td>13930.000000</td>\n",
       "    </tr>\n",
       "    <tr>\n",
       "      <th>mean</th>\n",
       "      <td>35.694599</td>\n",
       "      <td>28.550323</td>\n",
       "      <td>1955.799282</td>\n",
       "      <td>400.786935</td>\n",
       "      <td>1097.638335</td>\n",
       "      <td>374.421608</td>\n",
       "      <td>3.515953</td>\n",
       "      <td>173585.886360</td>\n",
       "    </tr>\n",
       "    <tr>\n",
       "      <th>std</th>\n",
       "      <td>2.181956</td>\n",
       "      <td>11.149611</td>\n",
       "      <td>918.063132</td>\n",
       "      <td>174.487808</td>\n",
       "      <td>492.718730</td>\n",
       "      <td>160.755241</td>\n",
       "      <td>1.377513</td>\n",
       "      <td>80856.189371</td>\n",
       "    </tr>\n",
       "    <tr>\n",
       "      <th>min</th>\n",
       "      <td>32.540000</td>\n",
       "      <td>1.000000</td>\n",
       "      <td>2.000000</td>\n",
       "      <td>2.000000</td>\n",
       "      <td>3.000000</td>\n",
       "      <td>2.000000</td>\n",
       "      <td>0.499900</td>\n",
       "      <td>0.000000</td>\n",
       "    </tr>\n",
       "    <tr>\n",
       "      <th>25%</th>\n",
       "      <td>33.930000</td>\n",
       "      <td>19.000000</td>\n",
       "      <td>1307.250000</td>\n",
       "      <td>275.000000</td>\n",
       "      <td>744.000000</td>\n",
       "      <td>261.000000</td>\n",
       "      <td>2.453700</td>\n",
       "      <td>108000.000000</td>\n",
       "    </tr>\n",
       "    <tr>\n",
       "      <th>50%</th>\n",
       "      <td>34.300000</td>\n",
       "      <td>30.000000</td>\n",
       "      <td>1851.000000</td>\n",
       "      <td>387.000000</td>\n",
       "      <td>1057.000000</td>\n",
       "      <td>364.000000</td>\n",
       "      <td>3.360700</td>\n",
       "      <td>162500.000000</td>\n",
       "    </tr>\n",
       "    <tr>\n",
       "      <th>75%</th>\n",
       "      <td>37.720000</td>\n",
       "      <td>36.000000</td>\n",
       "      <td>2529.000000</td>\n",
       "      <td>520.000000</td>\n",
       "      <td>1431.000000</td>\n",
       "      <td>488.000000</td>\n",
       "      <td>4.440525</td>\n",
       "      <td>226500.000000</td>\n",
       "    </tr>\n",
       "    <tr>\n",
       "      <th>max</th>\n",
       "      <td>41.950000</td>\n",
       "      <td>51.000000</td>\n",
       "      <td>5989.000000</td>\n",
       "      <td>994.000000</td>\n",
       "      <td>2400.000000</td>\n",
       "      <td>735.000000</td>\n",
       "      <td>7.358800</td>\n",
       "      <td>387500.000000</td>\n",
       "    </tr>\n",
       "  </tbody>\n",
       "</table>\n",
       "</div>"
      ],
      "text/plain": [
       "           latitude  housing_median_age   total_rooms  total_bedrooms  \\\n",
       "count  13930.000000        13930.000000  13930.000000    13930.000000   \n",
       "mean      35.694599           28.550323   1955.799282      400.786935   \n",
       "std        2.181956           11.149611    918.063132      174.487808   \n",
       "min       32.540000            1.000000      2.000000        2.000000   \n",
       "25%       33.930000           19.000000   1307.250000      275.000000   \n",
       "50%       34.300000           30.000000   1851.000000      387.000000   \n",
       "75%       37.720000           36.000000   2529.000000      520.000000   \n",
       "max       41.950000           51.000000   5989.000000      994.000000   \n",
       "\n",
       "         population    households  median_income  median_house_value  \n",
       "count  13930.000000  13930.000000   13930.000000        13930.000000  \n",
       "mean    1097.638335    374.421608       3.515953       173585.886360  \n",
       "std      492.718730    160.755241       1.377513        80856.189371  \n",
       "min        3.000000      2.000000       0.499900            0.000000  \n",
       "25%      744.000000    261.000000       2.453700       108000.000000  \n",
       "50%     1057.000000    364.000000       3.360700       162500.000000  \n",
       "75%     1431.000000    488.000000       4.440525       226500.000000  \n",
       "max     2400.000000    735.000000       7.358800       387500.000000  "
      ]
     },
     "execution_count": 54,
     "metadata": {},
     "output_type": "execute_result"
    }
   ],
   "source": [
    "precos_casa.describe()"
   ]
  },
  {
   "cell_type": "code",
   "execution_count": 55,
   "metadata": {
    "scrolled": true
   },
   "outputs": [
    {
     "name": "stderr",
     "output_type": "stream",
     "text": [
      "C:\\ProgramData\\Anaconda3\\lib\\site-packages\\scipy\\stats\\stats.py:1713: FutureWarning: Using a non-tuple sequence for multidimensional indexing is deprecated; use `arr[tuple(seq)]` instead of `arr[seq]`. In the future this will be interpreted as an array index, `arr[np.array(seq)]`, which will result either in an error or a different result.\n",
      "  return np.add.reduce(sorted[indexer] * weights, axis=axis) / sumval\n"
     ]
    },
    {
     "data": {
      "text/plain": [
       "<matplotlib.axes._subplots.AxesSubplot at 0x2978e56bd30>"
      ]
     },
     "execution_count": 55,
     "metadata": {},
     "output_type": "execute_result"
    },
    {
     "data": {
      "image/png": "[encoded data removed]",
      "text/plain": [
       "<Figure size 432x288 with 1 Axes>"
      ]
     },
     "metadata": {
      "needs_background": "light"
     },
     "output_type": "display_data"
    }
   ],
   "source": [
    "# plota \n",
    "sns.distplot(precos_casa['median_house_value'])"
   ]
  },
  {
   "cell_type": "code",
   "execution_count": 38,
   "metadata": {},
   "outputs": [],
   "source": [
    "# separa o dataframe\n",
    "features = precos_casa.loc[:, precos_casa.columns != 'median_house_value']\n",
    "target = precos_casa.loc[:, precos_casa.columns == 'median_house_value']"
   ]
  },
  {
   "cell_type": "code",
   "execution_count": 39,
   "metadata": {},
   "outputs": [],
   "source": [
    "# numeriza o ocean\n",
    "dic_ocean = {0: 'NEAR BAY', 1: '<1H OCEAN', 2: 'INLAND', 3: 'NEAR OCEAN', 4: 'ISLAND'}\n",
    "for chave, valor in dic_ocean.items():\n",
    "    features = features.replace(valor, chave)"
   ]
  },
  {
   "cell_type": "code",
   "execution_count": 40,
   "metadata": {},
   "outputs": [
    {
     "data": {
      "text/html": [
       "<div>\n",
       "<style scoped>\n",
       "    .dataframe tbody tr th:only-of-type {\n",
       "        vertical-align: middle;\n",
       "    }\n",
       "\n",
       "    .dataframe tbody tr th {\n",
       "        vertical-align: top;\n",
       "    }\n",
       "\n",
       "    .dataframe thead th {\n",
       "        text-align: right;\n",
       "    }\n",
       "</style>\n",
       "<table border=\"1\" class=\"dataframe\">\n",
       "  <thead>\n",
       "    <tr style=\"text-align: right;\">\n",
       "      <th></th>\n",
       "      <th>longitude</th>\n",
       "      <th>latitude</th>\n",
       "      <th>housing_median_age</th>\n",
       "      <th>total_rooms</th>\n",
       "      <th>total_bedrooms</th>\n",
       "      <th>population</th>\n",
       "      <th>households</th>\n",
       "      <th>median_income</th>\n",
       "      <th>ocean_proximity</th>\n",
       "    </tr>\n",
       "  </thead>\n",
       "  <tbody>\n",
       "    <tr>\n",
       "      <th>0</th>\n",
       "      <td>-122.26</td>\n",
       "      <td>37.84</td>\n",
       "      <td>42.0</td>\n",
       "      <td>2555.0</td>\n",
       "      <td>665.0</td>\n",
       "      <td>1206.0</td>\n",
       "      <td>595.0</td>\n",
       "      <td>2.0804</td>\n",
       "      <td>0</td>\n",
       "    </tr>\n",
       "    <tr>\n",
       "      <th>1</th>\n",
       "      <td>-122.26</td>\n",
       "      <td>37.85</td>\n",
       "      <td>50.0</td>\n",
       "      <td>1120.0</td>\n",
       "      <td>283.0</td>\n",
       "      <td>697.0</td>\n",
       "      <td>264.0</td>\n",
       "      <td>2.1250</td>\n",
       "      <td>0</td>\n",
       "    </tr>\n",
       "    <tr>\n",
       "      <th>2</th>\n",
       "      <td>-122.26</td>\n",
       "      <td>37.84</td>\n",
       "      <td>50.0</td>\n",
       "      <td>2239.0</td>\n",
       "      <td>455.0</td>\n",
       "      <td>990.0</td>\n",
       "      <td>419.0</td>\n",
       "      <td>1.9911</td>\n",
       "      <td>0</td>\n",
       "    </tr>\n",
       "  </tbody>\n",
       "</table>\n",
       "</div>"
      ],
      "text/plain": [
       "  longitude  latitude  housing_median_age  total_rooms  total_bedrooms  \\\n",
       "0   -122.26     37.84                42.0       2555.0           665.0   \n",
       "1   -122.26     37.85                50.0       1120.0           283.0   \n",
       "2   -122.26     37.84                50.0       2239.0           455.0   \n",
       "\n",
       "   population  households  median_income  ocean_proximity  \n",
       "0      1206.0       595.0         2.0804                0  \n",
       "1       697.0       264.0         2.1250                0  \n",
       "2       990.0       419.0         1.9911                0  "
      ]
     },
     "execution_count": 40,
     "metadata": {},
     "output_type": "execute_result"
    }
   ],
   "source": [
    "features.head(3)"
   ]
  },
  {
   "cell_type": "code",
   "execution_count": 41,
   "metadata": {},
   "outputs": [],
   "source": [
    "# normaliza dados\n",
    "colunas = features.columns\n",
    "min_max_scaler = preprocessing.MinMaxScaler()\n",
    "x_scaled = min_max_scaler.fit_transform(features.values.astype(float))\n",
    "features = pd.DataFrame(x_scaled)\n",
    "features.columns = colunas\n",
    "\n",
    "#normaliza target\n",
    "colunas = target.columns\n",
    "min_max_scaler = preprocessing.MinMaxScaler()\n",
    "x_scaled = min_max_scaler.fit_transform(target.values.astype(float))\n",
    "target = pd.DataFrame(x_scaled)\n",
    "target.columns = colunas"
   ]
  },
  {
   "cell_type": "code",
   "execution_count": 42,
   "metadata": {},
   "outputs": [
    {
     "data": {
      "text/html": [
       "<div>\n",
       "<style scoped>\n",
       "    .dataframe tbody tr th:only-of-type {\n",
       "        vertical-align: middle;\n",
       "    }\n",
       "\n",
       "    .dataframe tbody tr th {\n",
       "        vertical-align: top;\n",
       "    }\n",
       "\n",
       "    .dataframe thead th {\n",
       "        text-align: right;\n",
       "    }\n",
       "</style>\n",
       "<table border=\"1\" class=\"dataframe\">\n",
       "  <thead>\n",
       "    <tr style=\"text-align: right;\">\n",
       "      <th></th>\n",
       "      <th>longitude</th>\n",
       "      <th>latitude</th>\n",
       "      <th>housing_median_age</th>\n",
       "      <th>total_rooms</th>\n",
       "      <th>total_bedrooms</th>\n",
       "      <th>population</th>\n",
       "      <th>households</th>\n",
       "      <th>median_income</th>\n",
       "      <th>ocean_proximity</th>\n",
       "    </tr>\n",
       "  </thead>\n",
       "  <tbody>\n",
       "    <tr>\n",
       "      <th>0</th>\n",
       "      <td>0.207951</td>\n",
       "      <td>0.563231</td>\n",
       "      <td>0.82</td>\n",
       "      <td>0.426424</td>\n",
       "      <td>0.668347</td>\n",
       "      <td>0.501877</td>\n",
       "      <td>0.809004</td>\n",
       "      <td>0.230431</td>\n",
       "      <td>0.0</td>\n",
       "    </tr>\n",
       "    <tr>\n",
       "      <th>1</th>\n",
       "      <td>0.207951</td>\n",
       "      <td>0.564293</td>\n",
       "      <td>0.98</td>\n",
       "      <td>0.186738</td>\n",
       "      <td>0.283266</td>\n",
       "      <td>0.289529</td>\n",
       "      <td>0.357435</td>\n",
       "      <td>0.236933</td>\n",
       "      <td>0.0</td>\n",
       "    </tr>\n",
       "    <tr>\n",
       "      <th>2</th>\n",
       "      <td>0.207951</td>\n",
       "      <td>0.563231</td>\n",
       "      <td>0.98</td>\n",
       "      <td>0.373643</td>\n",
       "      <td>0.456653</td>\n",
       "      <td>0.411765</td>\n",
       "      <td>0.568895</td>\n",
       "      <td>0.217411</td>\n",
       "      <td>0.0</td>\n",
       "    </tr>\n",
       "  </tbody>\n",
       "</table>\n",
       "</div>"
      ],
      "text/plain": [
       "   longitude  latitude  housing_median_age  total_rooms  total_bedrooms  \\\n",
       "0   0.207951  0.563231                0.82     0.426424        0.668347   \n",
       "1   0.207951  0.564293                0.98     0.186738        0.283266   \n",
       "2   0.207951  0.563231                0.98     0.373643        0.456653   \n",
       "\n",
       "   population  households  median_income  ocean_proximity  \n",
       "0    0.501877    0.809004       0.230431              0.0  \n",
       "1    0.289529    0.357435       0.236933              0.0  \n",
       "2    0.411765    0.568895       0.217411              0.0  "
      ]
     },
     "execution_count": 42,
     "metadata": {},
     "output_type": "execute_result"
    }
   ],
   "source": [
    "features.head(3)"
   ]
  },
  {
   "cell_type": "code",
   "execution_count": 483,
   "metadata": {},
   "outputs": [
    {
     "data": {
      "text/html": [
       "<div>\n",
       "<style scoped>\n",
       "    .dataframe tbody tr th:only-of-type {\n",
       "        vertical-align: middle;\n",
       "    }\n",
       "\n",
       "    .dataframe tbody tr th {\n",
       "        vertical-align: top;\n",
       "    }\n",
       "\n",
       "    .dataframe thead th {\n",
       "        text-align: right;\n",
       "    }\n",
       "</style>\n",
       "<table border=\"1\" class=\"dataframe\">\n",
       "  <thead>\n",
       "    <tr style=\"text-align: right;\">\n",
       "      <th></th>\n",
       "      <th>median_house_value</th>\n",
       "    </tr>\n",
       "  </thead>\n",
       "  <tbody>\n",
       "    <tr>\n",
       "      <th>0</th>\n",
       "      <td>0.585032</td>\n",
       "    </tr>\n",
       "    <tr>\n",
       "      <th>1</th>\n",
       "      <td>0.361290</td>\n",
       "    </tr>\n",
       "    <tr>\n",
       "      <th>2</th>\n",
       "      <td>0.409548</td>\n",
       "    </tr>\n",
       "  </tbody>\n",
       "</table>\n",
       "</div>"
      ],
      "text/plain": [
       "   median_house_value\n",
       "0            0.585032\n",
       "1            0.361290\n",
       "2            0.409548"
      ]
     },
     "execution_count": 483,
     "metadata": {},
     "output_type": "execute_result"
    }
   ],
   "source": [
    "target.head(3)"
   ]
  },
  {
   "cell_type": "code",
   "execution_count": 56,
   "metadata": {},
   "outputs": [],
   "source": [
    "# separa o dataframe: dados_treino = 0 - 40%  dados_validacao = 40 - 100%\n",
    "features_treino, features_teste, target_treino, target_teste = model_selection.train_test_split(features, target, test_size=0.4, random_state=101)"
   ]
  },
  {
   "cell_type": "code",
   "execution_count": 57,
   "metadata": {},
   "outputs": [
    {
     "data": {
      "text/html": [
       "<div>\n",
       "<style scoped>\n",
       "    .dataframe tbody tr th:only-of-type {\n",
       "        vertical-align: middle;\n",
       "    }\n",
       "\n",
       "    .dataframe tbody tr th {\n",
       "        vertical-align: top;\n",
       "    }\n",
       "\n",
       "    .dataframe thead th {\n",
       "        text-align: right;\n",
       "    }\n",
       "</style>\n",
       "<table border=\"1\" class=\"dataframe\">\n",
       "  <thead>\n",
       "    <tr style=\"text-align: right;\">\n",
       "      <th></th>\n",
       "      <th>longitude</th>\n",
       "      <th>latitude</th>\n",
       "      <th>housing_median_age</th>\n",
       "      <th>total_rooms</th>\n",
       "      <th>total_bedrooms</th>\n",
       "      <th>population</th>\n",
       "      <th>households</th>\n",
       "      <th>median_income</th>\n",
       "      <th>ocean_proximity</th>\n",
       "    </tr>\n",
       "  </thead>\n",
       "  <tbody>\n",
       "    <tr>\n",
       "      <th>8504</th>\n",
       "      <td>0.986748</td>\n",
       "      <td>0.114772</td>\n",
       "      <td>0.50</td>\n",
       "      <td>0.002672</td>\n",
       "      <td>0.001008</td>\n",
       "      <td>0.000834</td>\n",
       "      <td>0.001364</td>\n",
       "      <td>0.005263</td>\n",
       "      <td>0.50</td>\n",
       "    </tr>\n",
       "    <tr>\n",
       "      <th>5215</th>\n",
       "      <td>0.618756</td>\n",
       "      <td>0.146652</td>\n",
       "      <td>0.62</td>\n",
       "      <td>0.289460</td>\n",
       "      <td>0.431452</td>\n",
       "      <td>0.707551</td>\n",
       "      <td>0.523874</td>\n",
       "      <td>0.099054</td>\n",
       "      <td>0.25</td>\n",
       "    </tr>\n",
       "    <tr>\n",
       "      <th>307</th>\n",
       "      <td>0.226300</td>\n",
       "      <td>0.546227</td>\n",
       "      <td>0.72</td>\n",
       "      <td>0.141306</td>\n",
       "      <td>0.201613</td>\n",
       "      <td>0.129746</td>\n",
       "      <td>0.276944</td>\n",
       "      <td>0.276415</td>\n",
       "      <td>0.00</td>\n",
       "    </tr>\n",
       "  </tbody>\n",
       "</table>\n",
       "</div>"
      ],
      "text/plain": [
       "      longitude  latitude  housing_median_age  total_rooms  total_bedrooms  \\\n",
       "8504   0.986748  0.114772                0.50     0.002672        0.001008   \n",
       "5215   0.618756  0.146652                0.62     0.289460        0.431452   \n",
       "307    0.226300  0.546227                0.72     0.141306        0.201613   \n",
       "\n",
       "      population  households  median_income  ocean_proximity  \n",
       "8504    0.000834    0.001364       0.005263             0.50  \n",
       "5215    0.707551    0.523874       0.099054             0.25  \n",
       "307     0.129746    0.276944       0.276415             0.00  "
      ]
     },
     "execution_count": 57,
     "metadata": {},
     "output_type": "execute_result"
    }
   ],
   "source": [
    "features_treino.head(3)"
   ]
  },
  {
   "cell_type": "code",
   "execution_count": 58,
   "metadata": {},
   "outputs": [
    {
     "data": {
      "text/html": [
       "<div>\n",
       "<style scoped>\n",
       "    .dataframe tbody tr th:only-of-type {\n",
       "        vertical-align: middle;\n",
       "    }\n",
       "\n",
       "    .dataframe tbody tr th {\n",
       "        vertical-align: top;\n",
       "    }\n",
       "\n",
       "    .dataframe thead th {\n",
       "        text-align: right;\n",
       "    }\n",
       "</style>\n",
       "<table border=\"1\" class=\"dataframe\">\n",
       "  <thead>\n",
       "    <tr style=\"text-align: right;\">\n",
       "      <th></th>\n",
       "      <th>longitude</th>\n",
       "      <th>latitude</th>\n",
       "      <th>housing_median_age</th>\n",
       "      <th>total_rooms</th>\n",
       "      <th>total_bedrooms</th>\n",
       "      <th>population</th>\n",
       "      <th>households</th>\n",
       "      <th>median_income</th>\n",
       "      <th>ocean_proximity</th>\n",
       "    </tr>\n",
       "  </thead>\n",
       "  <tbody>\n",
       "    <tr>\n",
       "      <th>13884</th>\n",
       "      <td>0.240571</td>\n",
       "      <td>0.674814</td>\n",
       "      <td>0.28</td>\n",
       "      <td>0.243862</td>\n",
       "      <td>0.314516</td>\n",
       "      <td>0.321652</td>\n",
       "      <td>0.366985</td>\n",
       "      <td>0.298576</td>\n",
       "      <td>0.50</td>\n",
       "    </tr>\n",
       "    <tr>\n",
       "      <th>4910</th>\n",
       "      <td>0.622834</td>\n",
       "      <td>0.160468</td>\n",
       "      <td>0.68</td>\n",
       "      <td>0.216135</td>\n",
       "      <td>0.307460</td>\n",
       "      <td>0.592407</td>\n",
       "      <td>0.373806</td>\n",
       "      <td>0.327064</td>\n",
       "      <td>0.25</td>\n",
       "    </tr>\n",
       "    <tr>\n",
       "      <th>12413</th>\n",
       "      <td>0.199796</td>\n",
       "      <td>0.853348</td>\n",
       "      <td>0.46</td>\n",
       "      <td>0.268582</td>\n",
       "      <td>0.307460</td>\n",
       "      <td>0.310805</td>\n",
       "      <td>0.416098</td>\n",
       "      <td>0.314803</td>\n",
       "      <td>0.50</td>\n",
       "    </tr>\n",
       "  </tbody>\n",
       "</table>\n",
       "</div>"
      ],
      "text/plain": [
       "       longitude  latitude  housing_median_age  total_rooms  total_bedrooms  \\\n",
       "13884   0.240571  0.674814                0.28     0.243862        0.314516   \n",
       "4910    0.622834  0.160468                0.68     0.216135        0.307460   \n",
       "12413   0.199796  0.853348                0.46     0.268582        0.307460   \n",
       "\n",
       "       population  households  median_income  ocean_proximity  \n",
       "13884    0.321652    0.366985       0.298576             0.50  \n",
       "4910     0.592407    0.373806       0.327064             0.25  \n",
       "12413    0.310805    0.416098       0.314803             0.50  "
      ]
     },
     "execution_count": 58,
     "metadata": {},
     "output_type": "execute_result"
    }
   ],
   "source": [
    "features_teste.head(3)"
   ]
  },
  {
   "cell_type": "code",
   "execution_count": 59,
   "metadata": {},
   "outputs": [
    {
     "data": {
      "text/html": [
       "<div>\n",
       "<style scoped>\n",
       "    .dataframe tbody tr th:only-of-type {\n",
       "        vertical-align: middle;\n",
       "    }\n",
       "\n",
       "    .dataframe tbody tr th {\n",
       "        vertical-align: top;\n",
       "    }\n",
       "\n",
       "    .dataframe thead th {\n",
       "        text-align: right;\n",
       "    }\n",
       "</style>\n",
       "<table border=\"1\" class=\"dataframe\">\n",
       "  <thead>\n",
       "    <tr style=\"text-align: right;\">\n",
       "      <th></th>\n",
       "      <th>median_house_value</th>\n",
       "    </tr>\n",
       "  </thead>\n",
       "  <tbody>\n",
       "    <tr>\n",
       "      <th>8504</th>\n",
       "      <td>0.709677</td>\n",
       "    </tr>\n",
       "    <tr>\n",
       "      <th>5215</th>\n",
       "      <td>0.267871</td>\n",
       "    </tr>\n",
       "    <tr>\n",
       "      <th>307</th>\n",
       "      <td>0.492387</td>\n",
       "    </tr>\n",
       "    <tr>\n",
       "      <th>925</th>\n",
       "      <td>0.598968</td>\n",
       "    </tr>\n",
       "    <tr>\n",
       "      <th>4619</th>\n",
       "      <td>0.663742</td>\n",
       "    </tr>\n",
       "  </tbody>\n",
       "</table>\n",
       "</div>"
      ],
      "text/plain": [
       "      median_house_value\n",
       "8504            0.709677\n",
       "5215            0.267871\n",
       "307             0.492387\n",
       "925             0.598968\n",
       "4619            0.663742"
      ]
     },
     "execution_count": 59,
     "metadata": {},
     "output_type": "execute_result"
    }
   ],
   "source": [
    "target_treino.head()"
   ]
  },
  {
   "cell_type": "code",
   "execution_count": 60,
   "metadata": {},
   "outputs": [
    {
     "data": {
      "text/html": [
       "<div>\n",
       "<style scoped>\n",
       "    .dataframe tbody tr th:only-of-type {\n",
       "        vertical-align: middle;\n",
       "    }\n",
       "\n",
       "    .dataframe tbody tr th {\n",
       "        vertical-align: top;\n",
       "    }\n",
       "\n",
       "    .dataframe thead th {\n",
       "        text-align: right;\n",
       "    }\n",
       "</style>\n",
       "<table border=\"1\" class=\"dataframe\">\n",
       "  <thead>\n",
       "    <tr style=\"text-align: right;\">\n",
       "      <th></th>\n",
       "      <th>median_house_value</th>\n",
       "    </tr>\n",
       "  </thead>\n",
       "  <tbody>\n",
       "    <tr>\n",
       "      <th>13884</th>\n",
       "      <td>0.236645</td>\n",
       "    </tr>\n",
       "    <tr>\n",
       "      <th>4910</th>\n",
       "      <td>0.348903</td>\n",
       "    </tr>\n",
       "    <tr>\n",
       "      <th>12413</th>\n",
       "      <td>0.213677</td>\n",
       "    </tr>\n",
       "    <tr>\n",
       "      <th>4088</th>\n",
       "      <td>0.419355</td>\n",
       "    </tr>\n",
       "    <tr>\n",
       "      <th>4728</th>\n",
       "      <td>0.765677</td>\n",
       "    </tr>\n",
       "  </tbody>\n",
       "</table>\n",
       "</div>"
      ],
      "text/plain": [
       "       median_house_value\n",
       "13884            0.236645\n",
       "4910             0.348903\n",
       "12413            0.213677\n",
       "4088             0.419355\n",
       "4728             0.765677"
      ]
     },
     "execution_count": 60,
     "metadata": {},
     "output_type": "execute_result"
    }
   ],
   "source": [
    "target_teste.head()"
   ]
  },
  {
   "cell_type": "code",
   "execution_count": 67,
   "metadata": {},
   "outputs": [
    {
     "name": "stdout",
     "output_type": "stream",
     "text": [
      "Predicao dos Dados:  407.819\n"
     ]
    }
   ],
   "source": [
    "# machine learning\n",
    "print('Predicao dos Dados: ', round(time.time() - tempo_inicial, 3))\n",
    "#clf = linear_model.LassoLars(alpha=.1)  # 25480756266.08841\n",
    "#clf = linear_model.Ridge (alpha = .5) # 25490381018.173256\n",
    "#clf = svm.SVR() # 6922054605.659882\n",
    "clf = ensemble.BaggingRegressor()\n",
    "#clf = linear_model.SGDRegressor() # infinito\n",
    "clf.fit(features_treino.values, target_treino.values.ravel())\n",
    "predicao = clf.predict(features_teste)"
   ]
  },
  {
   "cell_type": "code",
   "execution_count": 68,
   "metadata": {},
   "outputs": [
    {
     "data": {
      "text/plain": [
       "array([0.34461935, 0.36505806, 0.21104516, ..., 0.19869677, 0.51762581,\n",
       "       0.44887742])"
      ]
     },
     "execution_count": 68,
     "metadata": {},
     "output_type": "execute_result"
    }
   ],
   "source": [
    "predicao"
   ]
  },
  {
   "cell_type": "code",
   "execution_count": 69,
   "metadata": {},
   "outputs": [
    {
     "data": {
      "text/html": [
       "<div>\n",
       "<style scoped>\n",
       "    .dataframe tbody tr th:only-of-type {\n",
       "        vertical-align: middle;\n",
       "    }\n",
       "\n",
       "    .dataframe tbody tr th {\n",
       "        vertical-align: top;\n",
       "    }\n",
       "\n",
       "    .dataframe thead th {\n",
       "        text-align: right;\n",
       "    }\n",
       "</style>\n",
       "<table border=\"1\" class=\"dataframe\">\n",
       "  <thead>\n",
       "    <tr style=\"text-align: right;\">\n",
       "      <th></th>\n",
       "      <th>median_house_value</th>\n",
       "    </tr>\n",
       "  </thead>\n",
       "  <tbody>\n",
       "    <tr>\n",
       "      <th>0</th>\n",
       "      <td>0.344619</td>\n",
       "    </tr>\n",
       "    <tr>\n",
       "      <th>1</th>\n",
       "      <td>0.365058</td>\n",
       "    </tr>\n",
       "    <tr>\n",
       "      <th>2</th>\n",
       "      <td>0.211045</td>\n",
       "    </tr>\n",
       "    <tr>\n",
       "      <th>3</th>\n",
       "      <td>0.571019</td>\n",
       "    </tr>\n",
       "    <tr>\n",
       "      <th>4</th>\n",
       "      <td>0.573032</td>\n",
       "    </tr>\n",
       "  </tbody>\n",
       "</table>\n",
       "</div>"
      ],
      "text/plain": [
       "   median_house_value\n",
       "0            0.344619\n",
       "1            0.365058\n",
       "2            0.211045\n",
       "3            0.571019\n",
       "4            0.573032"
      ]
     },
     "execution_count": 69,
     "metadata": {},
     "output_type": "execute_result"
    }
   ],
   "source": [
    "# array -> dataframe\n",
    "predicao = [float(i) for i in predicao]\n",
    "predicao = pd.DataFrame(data=predicao,columns=['median_house_value']).reset_index(drop=True)\n",
    "predicao.head()"
   ]
  },
  {
   "cell_type": "code",
   "execution_count": 70,
   "metadata": {},
   "outputs": [
    {
     "data": {
      "text/plain": [
       "0.011130228239545676"
      ]
     },
     "execution_count": 70,
     "metadata": {},
     "output_type": "execute_result"
    }
   ],
   "source": [
    "sklearn.metrics.mean_squared_error(target_teste, predicao)"
   ]
  },
  {
   "cell_type": "code",
   "execution_count": 71,
   "metadata": {},
   "outputs": [
    {
     "data": {
      "text/plain": [
       "0.74574084330342"
      ]
     },
     "execution_count": 71,
     "metadata": {},
     "output_type": "execute_result"
    }
   ],
   "source": [
    "clf.score(features_teste, target_teste)"
   ]
  },
  {
   "cell_type": "code",
   "execution_count": 74,
   "metadata": {},
   "outputs": [
    {
     "data": {
      "text/plain": [
       "0.9558183243862793"
      ]
     },
     "execution_count": 74,
     "metadata": {},
     "output_type": "execute_result"
    }
   ],
   "source": [
    "clf.score(features_treino, target_treino)"
   ]
  },
  {
   "cell_type": "code",
   "execution_count": 76,
   "metadata": {},
   "outputs": [
    {
     "name": "stdout",
     "output_type": "stream",
     "text": [
      "Comparando os Dados:  562.711\n"
     ]
    },
    {
     "data": {
      "text/html": [
       "<div>\n",
       "<style scoped>\n",
       "    .dataframe tbody tr th:only-of-type {\n",
       "        vertical-align: middle;\n",
       "    }\n",
       "\n",
       "    .dataframe tbody tr th {\n",
       "        vertical-align: top;\n",
       "    }\n",
       "\n",
       "    .dataframe thead th {\n",
       "        text-align: right;\n",
       "    }\n",
       "</style>\n",
       "<table border=\"1\" class=\"dataframe\">\n",
       "  <thead>\n",
       "    <tr style=\"text-align: right;\">\n",
       "      <th></th>\n",
       "      <th>Valor Correto</th>\n",
       "      <th>Valor_Calculado</th>\n",
       "      <th>Diferenca_Absoluta</th>\n",
       "      <th>Diferenca_Porcentagem</th>\n",
       "    </tr>\n",
       "  </thead>\n",
       "  <tbody>\n",
       "    <tr>\n",
       "      <th>0</th>\n",
       "      <td>0.236645</td>\n",
       "      <td>0.344619</td>\n",
       "      <td>-0.107974</td>\n",
       "      <td>-31.331436</td>\n",
       "    </tr>\n",
       "    <tr>\n",
       "      <th>1</th>\n",
       "      <td>0.348903</td>\n",
       "      <td>0.365058</td>\n",
       "      <td>-0.016155</td>\n",
       "      <td>-4.425279</td>\n",
       "    </tr>\n",
       "    <tr>\n",
       "      <th>2</th>\n",
       "      <td>0.213677</td>\n",
       "      <td>0.211045</td>\n",
       "      <td>0.002632</td>\n",
       "      <td>1.247249</td>\n",
       "    </tr>\n",
       "    <tr>\n",
       "      <th>3</th>\n",
       "      <td>0.419355</td>\n",
       "      <td>0.571019</td>\n",
       "      <td>-0.151665</td>\n",
       "      <td>-26.560311</td>\n",
       "    </tr>\n",
       "    <tr>\n",
       "      <th>4</th>\n",
       "      <td>0.765677</td>\n",
       "      <td>0.573032</td>\n",
       "      <td>0.192645</td>\n",
       "      <td>33.618554</td>\n",
       "    </tr>\n",
       "  </tbody>\n",
       "</table>\n",
       "</div>"
      ],
      "text/plain": [
       "   Valor Correto  Valor_Calculado  Diferenca_Absoluta  Diferenca_Porcentagem\n",
       "0       0.236645         0.344619           -0.107974             -31.331436\n",
       "1       0.348903         0.365058           -0.016155              -4.425279\n",
       "2       0.213677         0.211045            0.002632               1.247249\n",
       "3       0.419355         0.571019           -0.151665             -26.560311\n",
       "4       0.765677         0.573032            0.192645              33.618554"
      ]
     },
     "execution_count": 76,
     "metadata": {},
     "output_type": "execute_result"
    }
   ],
   "source": [
    "# cria um dataframe para comparar os dados e confirmar se fiz sertu\n",
    "print('Comparando os Dados: ', round(time.time() - tempo_inicial, 3))\n",
    "resultado = target_teste.reset_index(drop=True).copy()\n",
    "resultado['predicao'] = predicao['median_house_value']\n",
    "resultado = resultado.rename(index=str, columns={'median_house_value': 'Valor Correto', 'predicao': 'Valor_Calculado'})\n",
    "resultado['Diferenca_Absoluta'] = resultado['Valor Correto'] - resultado['Valor_Calculado']\n",
    "resultado['Diferenca_Porcentagem'] = (resultado['Valor Correto'] / resultado['Valor_Calculado'] - 1) * 100\n",
    "resultado.head()"
   ]
  },
  {
   "cell_type": "code",
   "execution_count": 496,
   "metadata": {},
   "outputs": [],
   "source": [
    "# salva o resultado em um excel\n",
    "excel = pd.ExcelWriter(F\"Resultado.xlsx\")\n",
    "precos_casa.to_excel(excel, sheet_name='Precos_Casa_Tratado')\n",
    "resultado.to_excel(excel, sheet_name='Comparacao')\n",
    "excel.save()"
   ]
  },
  {
   "cell_type": "code",
   "execution_count": 497,
   "metadata": {},
   "outputs": [
    {
     "name": "stdout",
     "output_type": "stream",
     "text": [
      "Tempo do Programa:  5.387\n"
     ]
    }
   ],
   "source": [
    "print('Tempo do Programa: ', round(time.time() - tempo_inicial, 3))"
   ]
  }
 ],
 "metadata": {
  "kernelspec": {
   "display_name": "Python [default]",
   "language": "python",
   "name": "python3"
  },
  "language_info": {
   "codemirror_mode": {
    "name": "ipython",
    "version": 3
   },
   "file_extension": ".py",
   "mimetype": "text/x-python",
   "name": "python",
   "nbconvert_exporter": "python",
   "pygments_lexer": "ipython3",
   "version": "3.6.6"
  }
 },
 "nbformat": 4,
 "nbformat_minor": 2
}
